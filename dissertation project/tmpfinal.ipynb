{
 "cells": [
  {
   "cell_type": "code",
   "execution_count": 22,
   "metadata": {},
   "outputs": [],
   "source": [
    "import pandas as pd\n",
    "import numpy as np\n",
    "import random"
   ]
  },
  {
   "cell_type": "code",
   "execution_count": 23,
   "metadata": {},
   "outputs": [],
   "source": [
    "df=pd.DataFrame()  #it---g\n",
    "df1=pd.DataFrame() #m----g\n",
    "df3=pd.DataFrame() #it---av \n",
    "df4=pd.DataFrame() #m----av\n",
    "df5=pd.DataFrame() #it---p\n",
    "df6=pd.DataFrame() #m----p\n",
    "df7=pd.DataFrame() #med---g--c\n",
    "df8=pd.DataFrame() #med---g--eco\n",
    "df9=pd.DataFrame() #med--av\n",
    "df10=pd.DataFrame() #med--av--eco\n",
    "df11=pd.DataFrame() #poli --g\n",
    "df12=pd.DataFrame() #poli--avg\n",
    "df13=pd.DataFrame() #others "
   ]
  },
  {
   "cell_type": "markdown",
   "metadata": {},
   "source": [
    "## Technical"
   ]
  },
  {
   "cell_type": "code",
   "execution_count": 24,
   "metadata": {},
   "outputs": [],
   "source": [
    "df['maths']=np.random.randint(75,101,300)\n",
    "df['comp']=np.random.randint(75,101,300)\n",
    "df['ba']=np.random.randint(40,55,300)\n",
    "df['stats']=np.random.randint(75,101,300)\n",
    "df['chemistry']=np.random.randint(40,60,300)\n",
    "df['physics']=np.random.randint(75,101,300)\n",
    "df['history']=np.random.randint(40,60,300)\n",
    "df['politics']=np.random.randint(40,60,300)\n",
    "df['economics']=np.random.randint(40,60,300)\n",
    "df['english']=np.random.randint(45,75,300)\n",
    "df['biology']=np.random.randint(40,60,300)\n",
    "df['q1']=100\n",
    "df['q2']=100\n",
    "df['q3']=100\n",
    "for x in ['q4','q5','q6','q7','q8','q9','q10','q11','q12','q13','q14','q15','q16','q17','q18']:\n",
    "    df[x]=0\n",
    "    \n",
    "df['field']='Technical'"
   ]
  },
  {
   "cell_type": "code",
   "execution_count": 25,
   "metadata": {},
   "outputs": [
    {
     "data": {
      "text/html": [
       "<div>\n",
       "<style scoped>\n",
       "    .dataframe tbody tr th:only-of-type {\n",
       "        vertical-align: middle;\n",
       "    }\n",
       "\n",
       "    .dataframe tbody tr th {\n",
       "        vertical-align: top;\n",
       "    }\n",
       "\n",
       "    .dataframe thead th {\n",
       "        text-align: right;\n",
       "    }\n",
       "</style>\n",
       "<table border=\"1\" class=\"dataframe\">\n",
       "  <thead>\n",
       "    <tr style=\"text-align: right;\">\n",
       "      <th></th>\n",
       "      <th>maths</th>\n",
       "      <th>comp</th>\n",
       "      <th>ba</th>\n",
       "      <th>stats</th>\n",
       "      <th>chemistry</th>\n",
       "      <th>physics</th>\n",
       "      <th>history</th>\n",
       "      <th>politics</th>\n",
       "      <th>economics</th>\n",
       "      <th>english</th>\n",
       "      <th>...</th>\n",
       "      <th>q10</th>\n",
       "      <th>q11</th>\n",
       "      <th>q12</th>\n",
       "      <th>q13</th>\n",
       "      <th>q14</th>\n",
       "      <th>q15</th>\n",
       "      <th>q16</th>\n",
       "      <th>q17</th>\n",
       "      <th>q18</th>\n",
       "      <th>field</th>\n",
       "    </tr>\n",
       "  </thead>\n",
       "  <tbody>\n",
       "    <tr>\n",
       "      <th>0</th>\n",
       "      <td>94</td>\n",
       "      <td>96</td>\n",
       "      <td>51</td>\n",
       "      <td>85</td>\n",
       "      <td>46</td>\n",
       "      <td>90</td>\n",
       "      <td>46</td>\n",
       "      <td>53</td>\n",
       "      <td>48</td>\n",
       "      <td>66</td>\n",
       "      <td>...</td>\n",
       "      <td>0</td>\n",
       "      <td>0</td>\n",
       "      <td>0</td>\n",
       "      <td>0</td>\n",
       "      <td>0</td>\n",
       "      <td>0</td>\n",
       "      <td>0</td>\n",
       "      <td>0</td>\n",
       "      <td>0</td>\n",
       "      <td>Technical</td>\n",
       "    </tr>\n",
       "    <tr>\n",
       "      <th>1</th>\n",
       "      <td>97</td>\n",
       "      <td>97</td>\n",
       "      <td>44</td>\n",
       "      <td>79</td>\n",
       "      <td>55</td>\n",
       "      <td>81</td>\n",
       "      <td>51</td>\n",
       "      <td>42</td>\n",
       "      <td>57</td>\n",
       "      <td>62</td>\n",
       "      <td>...</td>\n",
       "      <td>0</td>\n",
       "      <td>0</td>\n",
       "      <td>0</td>\n",
       "      <td>0</td>\n",
       "      <td>0</td>\n",
       "      <td>0</td>\n",
       "      <td>0</td>\n",
       "      <td>0</td>\n",
       "      <td>0</td>\n",
       "      <td>Technical</td>\n",
       "    </tr>\n",
       "    <tr>\n",
       "      <th>2</th>\n",
       "      <td>96</td>\n",
       "      <td>75</td>\n",
       "      <td>43</td>\n",
       "      <td>96</td>\n",
       "      <td>52</td>\n",
       "      <td>80</td>\n",
       "      <td>49</td>\n",
       "      <td>48</td>\n",
       "      <td>53</td>\n",
       "      <td>69</td>\n",
       "      <td>...</td>\n",
       "      <td>0</td>\n",
       "      <td>0</td>\n",
       "      <td>0</td>\n",
       "      <td>0</td>\n",
       "      <td>0</td>\n",
       "      <td>0</td>\n",
       "      <td>0</td>\n",
       "      <td>0</td>\n",
       "      <td>0</td>\n",
       "      <td>Technical</td>\n",
       "    </tr>\n",
       "    <tr>\n",
       "      <th>3</th>\n",
       "      <td>80</td>\n",
       "      <td>100</td>\n",
       "      <td>49</td>\n",
       "      <td>94</td>\n",
       "      <td>56</td>\n",
       "      <td>90</td>\n",
       "      <td>49</td>\n",
       "      <td>41</td>\n",
       "      <td>52</td>\n",
       "      <td>73</td>\n",
       "      <td>...</td>\n",
       "      <td>0</td>\n",
       "      <td>0</td>\n",
       "      <td>0</td>\n",
       "      <td>0</td>\n",
       "      <td>0</td>\n",
       "      <td>0</td>\n",
       "      <td>0</td>\n",
       "      <td>0</td>\n",
       "      <td>0</td>\n",
       "      <td>Technical</td>\n",
       "    </tr>\n",
       "    <tr>\n",
       "      <th>4</th>\n",
       "      <td>91</td>\n",
       "      <td>81</td>\n",
       "      <td>45</td>\n",
       "      <td>87</td>\n",
       "      <td>49</td>\n",
       "      <td>99</td>\n",
       "      <td>50</td>\n",
       "      <td>45</td>\n",
       "      <td>52</td>\n",
       "      <td>51</td>\n",
       "      <td>...</td>\n",
       "      <td>0</td>\n",
       "      <td>0</td>\n",
       "      <td>0</td>\n",
       "      <td>0</td>\n",
       "      <td>0</td>\n",
       "      <td>0</td>\n",
       "      <td>0</td>\n",
       "      <td>0</td>\n",
       "      <td>0</td>\n",
       "      <td>Technical</td>\n",
       "    </tr>\n",
       "  </tbody>\n",
       "</table>\n",
       "<p>5 rows × 30 columns</p>\n",
       "</div>"
      ],
      "text/plain": [
       "   maths  comp  ba  stats  chemistry  physics  history  politics  economics  \\\n",
       "0     94    96  51     85         46       90       46        53         48   \n",
       "1     97    97  44     79         55       81       51        42         57   \n",
       "2     96    75  43     96         52       80       49        48         53   \n",
       "3     80   100  49     94         56       90       49        41         52   \n",
       "4     91    81  45     87         49       99       50        45         52   \n",
       "\n",
       "   english  ...  q10  q11  q12  q13  q14  q15  q16  q17  q18      field  \n",
       "0       66  ...    0    0    0    0    0    0    0    0    0  Technical  \n",
       "1       62  ...    0    0    0    0    0    0    0    0    0  Technical  \n",
       "2       69  ...    0    0    0    0    0    0    0    0    0  Technical  \n",
       "3       73  ...    0    0    0    0    0    0    0    0    0  Technical  \n",
       "4       51  ...    0    0    0    0    0    0    0    0    0  Technical  \n",
       "\n",
       "[5 rows x 30 columns]"
      ]
     },
     "execution_count": 25,
     "metadata": {},
     "output_type": "execute_result"
    }
   ],
   "source": [
    "df.head()"
   ]
  },
  {
   "cell_type": "code",
   "execution_count": 26,
   "metadata": {},
   "outputs": [],
   "source": [
    "df1['maths']=np.random.randint(50,70,10)\n",
    "df1['comp']=np.random.randint(50,75,10)\n",
    "df1['ba']=np.random.randint(50,75,10)\n",
    "df1['stats']=np.random.randint(50,70,10)\n",
    "df1['chemistry']=np.random.randint(50,70,10)\n",
    "df1['physics']=np.random.randint(40,70,10)\n",
    "df1['history']=np.random.randint(60,70,10)\n",
    "df1['politics']=np.random.randint(40,50,10)\n",
    "df1['economics']=np.random.randint(40,50,10)\n",
    "df1['english']=np.random.randint(45,50,10)\n",
    "df1['biology']=np.random.randint(40,60,10)\n",
    "df1['q1']=0\n",
    "df1['q2']=100\n",
    "df1['q3']=100\n",
    "for x in ['q4','q5','q6','q7','q8','q9','q10','q11','q12','q13','q14','q15','q16','q17','q18']:\n",
    "    df1[x]=0\n",
    "    \n",
    "df1['field']='Technical'"
   ]
  },
  {
   "cell_type": "code",
   "execution_count": 31,
   "metadata": {},
   "outputs": [],
   "source": [
    "df1=pd.DataFrame()\n",
    "df1['maths']=np.random.randint(50,70,20)\n",
    "df1['comp']=np.random.randint(50,75,20)\n",
    "df1['ba']=np.random.randint(50,75,20)\n",
    "df1['stats']=np.random.randint(50,70,20)\n",
    "df1['chemistry']=np.random.randint(50,70,20)\n",
    "df1['physics']=np.random.randint(40,70,20)\n",
    "df1['history']=np.random.randint(60,70,20)\n",
    "df1['politics']=np.random.randint(40,50,20)\n",
    "df1['economics']=np.random.randint(40,50,20)\n",
    "df1['english']=np.random.randint(45,50,20)\n",
    "df1['biology']=np.random.randint(40,60,20)\n",
    "df1['q1']=100\n",
    "df1['q2']=100\n",
    "df1['q3']=0\n",
    "for x in ['q4','q5','q6','q7','q8','q9','q10','q11','q12','q13','q14','q15','q16','q17','q18']:\n",
    "    df1[x]=0\n",
    "    \n",
    "df1['field']='Technical'"
   ]
  },
  {
   "cell_type": "code",
   "execution_count": 38,
   "metadata": {},
   "outputs": [
    {
     "data": {
      "text/html": [
       "<div>\n",
       "<style scoped>\n",
       "    .dataframe tbody tr th:only-of-type {\n",
       "        vertical-align: middle;\n",
       "    }\n",
       "\n",
       "    .dataframe tbody tr th {\n",
       "        vertical-align: top;\n",
       "    }\n",
       "\n",
       "    .dataframe thead th {\n",
       "        text-align: right;\n",
       "    }\n",
       "</style>\n",
       "<table border=\"1\" class=\"dataframe\">\n",
       "  <thead>\n",
       "    <tr style=\"text-align: right;\">\n",
       "      <th></th>\n",
       "      <th>maths</th>\n",
       "      <th>comp</th>\n",
       "      <th>ba</th>\n",
       "      <th>stats</th>\n",
       "      <th>chemistry</th>\n",
       "      <th>physics</th>\n",
       "      <th>history</th>\n",
       "      <th>politics</th>\n",
       "      <th>economics</th>\n",
       "      <th>english</th>\n",
       "      <th>...</th>\n",
       "      <th>q11</th>\n",
       "      <th>q12</th>\n",
       "      <th>q13</th>\n",
       "      <th>q14</th>\n",
       "      <th>q15</th>\n",
       "      <th>q16</th>\n",
       "      <th>q17</th>\n",
       "      <th>q18</th>\n",
       "      <th>field</th>\n",
       "      <th>accounts</th>\n",
       "    </tr>\n",
       "  </thead>\n",
       "  <tbody>\n",
       "    <tr>\n",
       "      <th>0</th>\n",
       "      <td>94</td>\n",
       "      <td>96</td>\n",
       "      <td>51</td>\n",
       "      <td>85</td>\n",
       "      <td>46</td>\n",
       "      <td>90</td>\n",
       "      <td>46</td>\n",
       "      <td>53</td>\n",
       "      <td>48</td>\n",
       "      <td>66</td>\n",
       "      <td>...</td>\n",
       "      <td>0</td>\n",
       "      <td>0</td>\n",
       "      <td>0</td>\n",
       "      <td>0</td>\n",
       "      <td>0</td>\n",
       "      <td>0</td>\n",
       "      <td>0</td>\n",
       "      <td>0</td>\n",
       "      <td>Technical</td>\n",
       "      <td>58</td>\n",
       "    </tr>\n",
       "    <tr>\n",
       "      <th>1</th>\n",
       "      <td>97</td>\n",
       "      <td>97</td>\n",
       "      <td>44</td>\n",
       "      <td>79</td>\n",
       "      <td>55</td>\n",
       "      <td>81</td>\n",
       "      <td>51</td>\n",
       "      <td>42</td>\n",
       "      <td>57</td>\n",
       "      <td>62</td>\n",
       "      <td>...</td>\n",
       "      <td>0</td>\n",
       "      <td>0</td>\n",
       "      <td>0</td>\n",
       "      <td>0</td>\n",
       "      <td>0</td>\n",
       "      <td>0</td>\n",
       "      <td>0</td>\n",
       "      <td>0</td>\n",
       "      <td>Technical</td>\n",
       "      <td>57</td>\n",
       "    </tr>\n",
       "    <tr>\n",
       "      <th>2</th>\n",
       "      <td>96</td>\n",
       "      <td>75</td>\n",
       "      <td>43</td>\n",
       "      <td>96</td>\n",
       "      <td>52</td>\n",
       "      <td>80</td>\n",
       "      <td>49</td>\n",
       "      <td>48</td>\n",
       "      <td>53</td>\n",
       "      <td>69</td>\n",
       "      <td>...</td>\n",
       "      <td>0</td>\n",
       "      <td>0</td>\n",
       "      <td>0</td>\n",
       "      <td>0</td>\n",
       "      <td>0</td>\n",
       "      <td>0</td>\n",
       "      <td>0</td>\n",
       "      <td>0</td>\n",
       "      <td>Technical</td>\n",
       "      <td>53</td>\n",
       "    </tr>\n",
       "    <tr>\n",
       "      <th>3</th>\n",
       "      <td>80</td>\n",
       "      <td>100</td>\n",
       "      <td>49</td>\n",
       "      <td>94</td>\n",
       "      <td>56</td>\n",
       "      <td>90</td>\n",
       "      <td>49</td>\n",
       "      <td>41</td>\n",
       "      <td>52</td>\n",
       "      <td>73</td>\n",
       "      <td>...</td>\n",
       "      <td>0</td>\n",
       "      <td>0</td>\n",
       "      <td>0</td>\n",
       "      <td>0</td>\n",
       "      <td>0</td>\n",
       "      <td>0</td>\n",
       "      <td>0</td>\n",
       "      <td>0</td>\n",
       "      <td>Technical</td>\n",
       "      <td>59</td>\n",
       "    </tr>\n",
       "    <tr>\n",
       "      <th>4</th>\n",
       "      <td>91</td>\n",
       "      <td>81</td>\n",
       "      <td>45</td>\n",
       "      <td>87</td>\n",
       "      <td>49</td>\n",
       "      <td>99</td>\n",
       "      <td>50</td>\n",
       "      <td>45</td>\n",
       "      <td>52</td>\n",
       "      <td>51</td>\n",
       "      <td>...</td>\n",
       "      <td>0</td>\n",
       "      <td>0</td>\n",
       "      <td>0</td>\n",
       "      <td>0</td>\n",
       "      <td>0</td>\n",
       "      <td>0</td>\n",
       "      <td>0</td>\n",
       "      <td>0</td>\n",
       "      <td>Technical</td>\n",
       "      <td>40</td>\n",
       "    </tr>\n",
       "  </tbody>\n",
       "</table>\n",
       "<p>5 rows × 31 columns</p>\n",
       "</div>"
      ],
      "text/plain": [
       "   maths  comp  ba  stats  chemistry  physics  history  politics  economics  \\\n",
       "0     94    96  51     85         46       90       46        53         48   \n",
       "1     97    97  44     79         55       81       51        42         57   \n",
       "2     96    75  43     96         52       80       49        48         53   \n",
       "3     80   100  49     94         56       90       49        41         52   \n",
       "4     91    81  45     87         49       99       50        45         52   \n",
       "\n",
       "   english  ...  q11  q12  q13  q14  q15  q16  q17  q18      field  accounts  \n",
       "0       66  ...    0    0    0    0    0    0    0    0  Technical        58  \n",
       "1       62  ...    0    0    0    0    0    0    0    0  Technical        57  \n",
       "2       69  ...    0    0    0    0    0    0    0    0  Technical        53  \n",
       "3       73  ...    0    0    0    0    0    0    0    0  Technical        59  \n",
       "4       51  ...    0    0    0    0    0    0    0    0  Technical        40  \n",
       "\n",
       "[5 rows x 31 columns]"
      ]
     },
     "execution_count": 38,
     "metadata": {},
     "output_type": "execute_result"
    }
   ],
   "source": [
    "#technical=pd.concat([technical,df1])\n",
    "technical.head()"
   ]
  },
  {
   "cell_type": "markdown",
   "metadata": {},
   "source": [
    "## Management"
   ]
  },
  {
   "cell_type": "code",
   "execution_count": 71,
   "metadata": {},
   "outputs": [],
   "source": [
    "df = pd.DataFrame()\n",
    "df['maths']=np.random.randint(40,65,300)\n",
    "df['comp']=np.random.randint(40,65,300)\n",
    "df['ba']=np.random.randint(75,101,300)\n",
    "df['stats']=np.random.randint(40,65,300)\n",
    "df['chemistry']=np.random.randint(40,60,300)\n",
    "df['physics']=np.random.randint(40,60,300)\n",
    "df['history']=np.random.randint(40,60,300)\n",
    "df['politics']=np.random.randint(40,60,300)\n",
    "df['economics']=np.random.randint(75,101,300)\n",
    "df['english']=np.random.randint(45,70,300)\n",
    "df['biology']=np.random.randint(40,60,300)\n",
    "df['q4']=100\n",
    "df['q5']=100\n",
    "df['q6']=100\n",
    "for x in ['q1','q2','q3','q7','q8','q9','q10','q11','q12','q13','q14','q15','q16','q17','q18']:\n",
    "    df[x]=0\n",
    "    \n",
    "df['field']='Management'\n",
    "df['accounts']=np.random.randint(75,101,300)"
   ]
  },
  {
   "cell_type": "code",
   "execution_count": 72,
   "metadata": {},
   "outputs": [],
   "source": [
    "df1=pd.DataFrame()\n",
    "df1['maths']=np.random.randint(50,60,20)\n",
    "df1['comp']=np.random.randint(50,65,20)\n",
    "df1['ba']=np.random.randint(50,75,20)\n",
    "df1['stats']=np.random.randint(50,70,20)\n",
    "df1['chemistry']=np.random.randint(50,60,20)\n",
    "df1['physics']=np.random.randint(40,60,20)\n",
    "df1['history']=np.random.randint(60,70,20)\n",
    "df1['politics']=np.random.randint(40,50,20)\n",
    "df1['economics']=np.random.randint(50,70,20)\n",
    "df1['english']=np.random.randint(45,50,20)\n",
    "df1['biology']=np.random.randint(40,60,20)\n",
    "df1['q4']=0\n",
    "df1['q5']=100\n",
    "df1['q6']=100\n",
    "for x in ['q1','q2','q3','q7','q8','q9','q10','q11','q12','q13','q14','q15','q16','q17','q18']:\n",
    "    df1[x]=0\n",
    "    \n",
    "df1['field']='Management'\n",
    "df1['accounts']=np.random.randint(50,60,20)"
   ]
  },
  {
   "cell_type": "code",
   "execution_count": 74,
   "metadata": {},
   "outputs": [],
   "source": [
    "df1=pd.DataFrame()\n",
    "df1['maths']=np.random.randint(50,60,20)\n",
    "df1['comp']=np.random.randint(50,65,20)\n",
    "df1['ba']=np.random.randint(50,75,20)\n",
    "df1['stats']=np.random.randint(50,70,20)\n",
    "df1['chemistry']=np.random.randint(50,60,20)\n",
    "df1['physics']=np.random.randint(40,60,20)\n",
    "df1['history']=np.random.randint(60,70,20)\n",
    "df1['politics']=np.random.randint(40,50,20)\n",
    "df1['economics']=np.random.randint(50,70,20)\n",
    "df1['english']=np.random.randint(45,50,20)\n",
    "df1['biology']=np.random.randint(40,60,20)\n",
    "df1['q4']=100\n",
    "df1['q5']=0\n",
    "df1['q6']=100\n",
    "for x in ['q1','q2','q3','q7','q8','q9','q10','q11','q12','q13','q14','q15','q16','q17','q18']:\n",
    "    df1[x]=0\n",
    "    \n",
    "df1['field']='Management'\n",
    "df1['accounts']=np.random.randint(50,60,20)"
   ]
  },
  {
   "cell_type": "code",
   "execution_count": 76,
   "metadata": {},
   "outputs": [],
   "source": [
    "df1=pd.DataFrame()\n",
    "df1['maths']=np.random.randint(50,60,10)\n",
    "df1['comp']=np.random.randint(50,65,10)\n",
    "df1['ba']=np.random.randint(50,75,10)\n",
    "df1['stats']=np.random.randint(50,70,10)\n",
    "df1['chemistry']=np.random.randint(50,60,10)\n",
    "df1['physics']=np.random.randint(40,60,10)\n",
    "df1['history']=np.random.randint(60,70,10)\n",
    "df1['politics']=np.random.randint(40,50,10)\n",
    "df1['economics']=np.random.randint(50,70,10)\n",
    "df1['english']=np.random.randint(45,50,10)\n",
    "df1['biology']=np.random.randint(40,60,10)\n",
    "df1['q4']=100\n",
    "df1['q5']=100\n",
    "df1['q6']=0\n",
    "for x in ['q1','q2','q3','q7','q8','q9','q10','q11','q12','q13','q14','q15','q16','q17','q18']:\n",
    "    df1[x]=0\n",
    "    \n",
    "df1['field']='Management'\n",
    "df1['accounts']=np.random.randint(50,60,10)"
   ]
  },
  {
   "cell_type": "code",
   "execution_count": 77,
   "metadata": {},
   "outputs": [
    {
     "data": {
      "text/plain": [
       "(350, 31)"
      ]
     },
     "execution_count": 77,
     "metadata": {},
     "output_type": "execute_result"
    }
   ],
   "source": [
    "management = pd.concat([management,df1])\n",
    "management.shape"
   ]
  },
  {
   "cell_type": "code",
   "execution_count": 78,
   "metadata": {},
   "outputs": [
    {
     "name": "stderr",
     "output_type": "stream",
     "text": [
      "/Users/shashankshivam/anaconda3/lib/python3.6/site-packages/ipykernel_launcher.py:2: FutureWarning: Sorting because non-concatenation axis is not aligned. A future version\n",
      "of pandas will change to not sort by default.\n",
      "\n",
      "To accept the future behavior, pass 'sort=False'.\n",
      "\n",
      "To retain the current behavior and silence the warning, pass 'sort=True'.\n",
      "\n",
      "  \n"
     ]
    }
   ],
   "source": [
    "final = pd.DataFrame()\n",
    "final = pd.concat([technical,management])"
   ]
  },
  {
   "cell_type": "code",
   "execution_count": 79,
   "metadata": {},
   "outputs": [
    {
     "data": {
      "text/plain": [
       "(700, 31)"
      ]
     },
     "execution_count": 79,
     "metadata": {},
     "output_type": "execute_result"
    }
   ],
   "source": [
    "final.shape"
   ]
  },
  {
   "cell_type": "markdown",
   "metadata": {},
   "source": [
    "## Medical"
   ]
  },
  {
   "cell_type": "code",
   "execution_count": 97,
   "metadata": {},
   "outputs": [],
   "source": [
    "df['maths']=np.random.randint(40,50,300)\n",
    "df['comp']=np.random.randint(40,50,300)\n",
    "df['ba']=np.random.randint(40,50,300)\n",
    "df['stats']=np.random.randint(40,50,300)\n",
    "df['chemistry']=np.random.randint(70,101,300)\n",
    "df['physics']=np.random.randint(40,50,300)\n",
    "df['history']=np.random.randint(40,50,300)\n",
    "df['politics']=np.random.randint(40,50,300)\n",
    "df['economics']=np.random.randint(40,50,300)\n",
    "df['english']=np.random.randint(40,50,300)\n",
    "df['biology']=np.random.randint(70,101,300)\n",
    "df['accounts']=np.random.randint(50,60,300)\n",
    "df['q7']=100\n",
    "df['q8']=100\n",
    "df['q2']=100\n",
    "for x in ['q1','q3','q4','q5','q6','q9','q10','q11','q12','q13','q14','q15','q16','q17','q18']:\n",
    "    df[x]=0\n",
    "    \n",
    "df['field']='Medical'"
   ]
  },
  {
   "cell_type": "code",
   "execution_count": 102,
   "metadata": {},
   "outputs": [],
   "source": [
    "df1=pd.DataFrame()\n",
    "df1['maths']=np.random.randint(50,60,10)\n",
    "df1['comp']=np.random.randint(50,65,10)\n",
    "df1['ba']=np.random.randint(50,75,10)\n",
    "df1['stats']=np.random.randint(50,70,10)\n",
    "df1['chemistry']=np.random.randint(50,60,10)\n",
    "df1['physics']=np.random.randint(40,60,10)\n",
    "df1['history']=np.random.randint(60,70,10)\n",
    "df1['politics']=np.random.randint(40,50,10)\n",
    "df1['economics']=np.random.randint(50,70,10)\n",
    "df1['english']=np.random.randint(45,50,10)\n",
    "df1['biology']=np.random.randint(40,60,10)\n",
    "df1['q7']=100\n",
    "df1['q8']=100\n",
    "df1['q2']=0\n",
    "for x in ['q1','q3','q4','q5','q6','q9','q10','q11','q12','q13','q14','q15','q16','q17','q18']:\n",
    "    df1[x]=0\n",
    "    \n",
    "df1['field']='Medical'\n",
    "df1['accounts']=np.random.randint(50,60,10)"
   ]
  },
  {
   "cell_type": "code",
   "execution_count": 103,
   "metadata": {},
   "outputs": [
    {
     "name": "stderr",
     "output_type": "stream",
     "text": [
      "/Users/shashankshivam/anaconda3/lib/python3.6/site-packages/ipykernel_launcher.py:1: FutureWarning: Sorting because non-concatenation axis is not aligned. A future version\n",
      "of pandas will change to not sort by default.\n",
      "\n",
      "To accept the future behavior, pass 'sort=False'.\n",
      "\n",
      "To retain the current behavior and silence the warning, pass 'sort=True'.\n",
      "\n",
      "  \"\"\"Entry point for launching an IPython kernel.\n"
     ]
    }
   ],
   "source": [
    "medical = pd.concat([medical,df1])"
   ]
  },
  {
   "cell_type": "code",
   "execution_count": 105,
   "metadata": {},
   "outputs": [
    {
     "data": {
      "text/plain": [
       "(700, 31)"
      ]
     },
     "execution_count": 105,
     "metadata": {},
     "output_type": "execute_result"
    }
   ],
   "source": [
    "final.shape\n"
   ]
  },
  {
   "cell_type": "code",
   "execution_count": 106,
   "metadata": {},
   "outputs": [],
   "source": [
    "final = pd.concat([final,medical])"
   ]
  },
  {
   "cell_type": "code",
   "execution_count": 107,
   "metadata": {},
   "outputs": [
    {
     "data": {
      "text/plain": [
       "(1050, 31)"
      ]
     },
     "execution_count": 107,
     "metadata": {},
     "output_type": "execute_result"
    }
   ],
   "source": [
    "final.shape"
   ]
  },
  {
   "cell_type": "markdown",
   "metadata": {},
   "source": [
    "## Convivialist"
   ]
  },
  {
   "cell_type": "code",
   "execution_count": 108,
   "metadata": {},
   "outputs": [],
   "source": [
    "df['maths']=np.random.randint(40,50,300)\n",
    "df['comp']=np.random.randint(40,50,300)\n",
    "df['ba']=np.random.randint(40,50,300)\n",
    "df['stats']=np.random.randint(40,50,300)\n",
    "df['chemistry']=np.random.randint(70,101,300)\n",
    "df['physics']=np.random.randint(40,50,300)\n",
    "df['history']=np.random.randint(75,101,300)\n",
    "df['politics']=np.random.randint(75,101,300)\n",
    "df['economics']=np.random.randint(75,101,300)\n",
    "df['english']=np.random.randint(40,50,300)\n",
    "df['biology']=np.random.randint(70,101,300)\n",
    "df['accounts']=np.random.randint(50,60,300)\n",
    "df['q11']=100\n",
    "df['q3']=100\n",
    "df['q4']=100\n",
    "for x in ['q1','q2','q5','q6','q7','q8','q9','q10','q12','q13','q14','q15','q16','q17','q18']:\n",
    "    df[x]=0\n",
    "    \n",
    "df['field']='Convivialist'"
   ]
  },
  {
   "cell_type": "code",
   "execution_count": 115,
   "metadata": {},
   "outputs": [],
   "source": [
    "df1=pd.DataFrame()\n",
    "df1['maths']=np.random.randint(50,60,10)\n",
    "df1['comp']=np.random.randint(50,65,10)\n",
    "df1['ba']=np.random.randint(50,75,10)\n",
    "df1['stats']=np.random.randint(50,70,10)\n",
    "df1['chemistry']=np.random.randint(50,60,10)\n",
    "df1['physics']=np.random.randint(40,60,10)\n",
    "df1['history']=np.random.randint(60,70,10)\n",
    "df1['politics']=np.random.randint(40,70,10)\n",
    "df1['economics']=np.random.randint(50,70,10)\n",
    "df1['english']=np.random.randint(45,50,10)\n",
    "df1['biology']=np.random.randint(40,60,10)\n",
    "df1['q11']=100\n",
    "df1['q3']=100\n",
    "df1['q4']=0\n",
    "for x in ['q1','q2','q5','q6','q7','q8','q9','q10','q12','q13','q14','q15','q16','q17','q18']:\n",
    "    df1[x]=0\n",
    "    \n",
    "df1['field']='Convivialist'\n",
    "df1['accounts']=np.random.randint(50,60,10)"
   ]
  },
  {
   "cell_type": "code",
   "execution_count": 116,
   "metadata": {},
   "outputs": [
    {
     "name": "stderr",
     "output_type": "stream",
     "text": [
      "/Users/shashankshivam/anaconda3/lib/python3.6/site-packages/ipykernel_launcher.py:1: FutureWarning: Sorting because non-concatenation axis is not aligned. A future version\n",
      "of pandas will change to not sort by default.\n",
      "\n",
      "To accept the future behavior, pass 'sort=False'.\n",
      "\n",
      "To retain the current behavior and silence the warning, pass 'sort=True'.\n",
      "\n",
      "  \"\"\"Entry point for launching an IPython kernel.\n"
     ]
    }
   ],
   "source": [
    "convivialist = pd.concat([convivialist,df1])"
   ]
  },
  {
   "cell_type": "code",
   "execution_count": 117,
   "metadata": {},
   "outputs": [
    {
     "data": {
      "text/plain": [
       "(350, 31)"
      ]
     },
     "execution_count": 117,
     "metadata": {},
     "output_type": "execute_result"
    }
   ],
   "source": [
    "convivialist.shape"
   ]
  },
  {
   "cell_type": "code",
   "execution_count": 118,
   "metadata": {},
   "outputs": [],
   "source": [
    "final = pd.concat([final,convivialist])"
   ]
  },
  {
   "cell_type": "code",
   "execution_count": 119,
   "metadata": {},
   "outputs": [
    {
     "data": {
      "text/plain": [
       "(1400, 31)"
      ]
     },
     "execution_count": 119,
     "metadata": {},
     "output_type": "execute_result"
    }
   ],
   "source": [
    "final.shape"
   ]
  },
  {
   "cell_type": "code",
   "execution_count": 183,
   "metadata": {},
   "outputs": [],
   "source": [
    "final['field'].replace(\"Technical\",1,inplace=True)\n",
    "final['field'].replace(\"Management\",2,inplace=True)\n",
    "final['field'].replace(\"Medical\",3,inplace=True)\n",
    "final['field'].replace(\"Convivialist\",4,inplace=True)\n",
    "final['field'].replace(\"Artistic\",5,inplace=True)\n",
    "final['field'].replace(\"Teaching\",6,inplace=True)"
   ]
  },
  {
   "cell_type": "code",
   "execution_count": 184,
   "metadata": {},
   "outputs": [],
   "source": [
    "X=final.drop(['field'],1)\n",
    "X=X.values\n",
    "y=final['field']\n",
    "y=y.values"
   ]
  },
  {
   "cell_type": "code",
   "execution_count": 186,
   "metadata": {},
   "outputs": [
    {
     "name": "stderr",
     "output_type": "stream",
     "text": [
      "/Users/shashankshivam/anaconda3/lib/python3.6/site-packages/sklearn/svm/base.py:193: FutureWarning: The default value of gamma will change from 'auto' to 'scale' in version 0.22 to account better for unscaled features. Set gamma explicitly to 'auto' or 'scale' to avoid this warning.\n",
      "  \"avoid this warning.\", FutureWarning)\n"
     ]
    },
    {
     "name": "stdout",
     "output_type": "stream",
     "text": [
      "              precision    recall  f1-score   support\n",
      "\n",
      "           1       0.00      0.00      0.00       116\n",
      "           2       0.00      0.00      0.00       125\n",
      "           3       1.00      0.53      0.69       109\n",
      "           4       0.36      1.00      0.53       226\n",
      "           5       0.00      0.00      0.00        14\n",
      "           6       1.00      0.03      0.06       103\n",
      "\n",
      "    accuracy                           0.41       693\n",
      "   macro avg       0.39      0.26      0.21       693\n",
      "weighted avg       0.42      0.41      0.29       693\n",
      "\n",
      "[[  0   0   0 116   0   0]\n",
      " [  0   0   0 125   0   0]\n",
      " [  0   0  58  51   0   0]\n",
      " [  0   0   0 226   0   0]\n",
      " [  0   0   0  14   0   0]\n",
      " [  0   0   0 100   0   3]]\n",
      "0.41414141414141414\n"
     ]
    },
    {
     "name": "stderr",
     "output_type": "stream",
     "text": [
      "/Users/shashankshivam/anaconda3/lib/python3.6/site-packages/sklearn/metrics/classification.py:1437: UndefinedMetricWarning: Precision and F-score are ill-defined and being set to 0.0 in labels with no predicted samples.\n",
      "  'precision', 'predicted', average, warn_for)\n"
     ]
    }
   ],
   "source": [
    "import sklearn\n",
    "from sklearn.model_selection import train_test_split\n",
    "X_train, X_test, y_train, y_test = train_test_split(X, y, test_size=0.33, random_state=42)\n",
    "from sklearn import svm\n",
    "from sklearn.svm import SVC\n",
    "from sklearn import metrics\n",
    "from sklearn.metrics import accuracy_score\n",
    "\n",
    "model = svm.SVC(kernel = \"rbf\")\n",
    "model.fit(X_train, y_train)\n",
    "pred_y = model.predict(X_test)\n",
    "print(metrics.classification_report(y_test, pred_y))\n",
    "print(metrics.confusion_matrix(y_test,pred_y))\n",
    "print(accuracy_score(y_test, pred_y))\n",
    "svm_score=accuracy_score(y_test, pred_y)"
   ]
  },
  {
   "cell_type": "code",
   "execution_count": 187,
   "metadata": {},
   "outputs": [
    {
     "name": "stdout",
     "output_type": "stream",
     "text": [
      "              precision    recall  f1-score   support\n",
      "\n",
      "           1       1.00      1.00      1.00       116\n",
      "           2       1.00      1.00      1.00       125\n",
      "           3       1.00      1.00      1.00       109\n",
      "           4       1.00      0.96      0.98       226\n",
      "           5       0.64      1.00      0.78        14\n",
      "           6       1.00      1.00      1.00       103\n",
      "\n",
      "    accuracy                           0.99       693\n",
      "   macro avg       0.94      0.99      0.96       693\n",
      "weighted avg       0.99      0.99      0.99       693\n",
      "\n",
      "[[116   0   0   0   0   0]\n",
      " [  0 125   0   0   0   0]\n",
      " [  0   0 109   0   0   0]\n",
      " [  0   0   0 218   8   0]\n",
      " [  0   0   0   0  14   0]\n",
      " [  0   0   0   0   0 103]]\n",
      "0.9884559884559885\n"
     ]
    },
    {
     "data": {
      "text/plain": [
       "98.84559884559884"
      ]
     },
     "execution_count": 187,
     "metadata": {},
     "output_type": "execute_result"
    }
   ],
   "source": [
    "from sklearn.naive_bayes import GaussianNB\n",
    "model = GaussianNB()\n",
    "model.fit(X_train,y_train)\n",
    "prediction = model.predict(X_test)\n",
    "\n",
    "print(metrics.classification_report(y_test, prediction))\n",
    "print(metrics.confusion_matrix(y_test,prediction))\n",
    "print(accuracy_score(y_test, prediction))\n",
    "accuracy_score(y_test,prediction)*100"
   ]
  },
  {
   "cell_type": "markdown",
   "metadata": {},
   "source": [
    "## Artistic"
   ]
  },
  {
   "cell_type": "code",
   "execution_count": null,
   "metadata": {},
   "outputs": [],
   "source": [
    "df['maths']=np.random.randint(40,50,300)\n",
    "df['comp']=np.random.randint(40,50,300)\n",
    "df['ba']=np.random.randint(60,101,300)\n",
    "df['stats']=np.random.randint(70,101,300)\n",
    "df['chemistry']=np.random.randint(40,55,300)\n",
    "df['physics']=np.random.randint(40,50,300)\n",
    "df['history']=np.random.randint(40,50,300)\n",
    "df['politics']=np.random.randint(40,50,300)\n",
    "df['economics']=np.random.randint(45,101,300)\n",
    "df['english']=np.random.randint(70,101,300)\n",
    "df['biology']=np.random.randint(40,50,300)\n",
    "df['accounts']=np.random.randint(40,55,300)\n",
    "df['q11']=100\n",
    "df['q3']=100\n",
    "df['q4']=100\n",
    "for x in ['q1','q2','q5','q6','q7','q8','q9','q10','q12','q13','q14','q15','q16','q17','q18']:\n",
    "    df[x]=0\n",
    "    \n",
    "df['field']='Artistic'"
   ]
  },
  {
   "cell_type": "code",
   "execution_count": 125,
   "metadata": {},
   "outputs": [],
   "source": [
    "df1=pd.DataFrame()\n",
    "df1['maths']=np.random.randint(50,60,20)\n",
    "df1['comp']=np.random.randint(50,65,20)\n",
    "df1['ba']=np.random.randint(50,55,20)\n",
    "df1['stats']=np.random.randint(50,60,20)\n",
    "df1['chemistry']=np.random.randint(50,60,20)\n",
    "df1['physics']=np.random.randint(40,60,20)\n",
    "df1['history']=np.random.randint(50,60,20)\n",
    "df1['politics']=np.random.randint(40,50,20)\n",
    "df1['economics']=np.random.randint(50,57,20)\n",
    "df1['english']=np.random.randint(45,65,20)\n",
    "df1['biology']=np.random.randint(40,60,20)\n",
    "df1['q11']=100\n",
    "df1['q3']=0\n",
    "df1['q4']=100\n",
    "for x in ['q1','q2','q5','q6','q7','q8','q9','q10','q12','q13','q14','q15','q16','q17','q18']:\n",
    "    df1[x]=0\n",
    "    \n",
    "df1['field']='Artistic'\n",
    "df1['accounts']=np.random.randint(50,60,20)"
   ]
  },
  {
   "cell_type": "code",
   "execution_count": 127,
   "metadata": {},
   "outputs": [
    {
     "name": "stderr",
     "output_type": "stream",
     "text": [
      "/Users/shashankshivam/anaconda3/lib/python3.6/site-packages/ipykernel_launcher.py:1: FutureWarning: Sorting because non-concatenation axis is not aligned. A future version\n",
      "of pandas will change to not sort by default.\n",
      "\n",
      "To accept the future behavior, pass 'sort=False'.\n",
      "\n",
      "To retain the current behavior and silence the warning, pass 'sort=True'.\n",
      "\n",
      "  \"\"\"Entry point for launching an IPython kernel.\n"
     ]
    },
    {
     "data": {
      "text/plain": [
       "(320, 31)"
      ]
     },
     "execution_count": 127,
     "metadata": {},
     "output_type": "execute_result"
    }
   ],
   "source": [
    "artistic=pd.concat([df,df1])\n",
    "artistic.shape"
   ]
  },
  {
   "cell_type": "code",
   "execution_count": 128,
   "metadata": {},
   "outputs": [],
   "source": [
    "df1=pd.DataFrame()\n",
    "df1['maths']=np.random.randint(50,60,20)\n",
    "df1['comp']=np.random.randint(50,65,20)\n",
    "df1['ba']=np.random.randint(50,55,20)\n",
    "df1['stats']=np.random.randint(50,60,20)\n",
    "df1['chemistry']=np.random.randint(50,60,20)\n",
    "df1['physics']=np.random.randint(40,60,20)\n",
    "df1['history']=np.random.randint(50,60,20)\n",
    "df1['politics']=np.random.randint(40,50,20)\n",
    "df1['economics']=np.random.randint(50,57,20)\n",
    "df1['english']=np.random.randint(45,65,20)\n",
    "df1['biology']=np.random.randint(40,60,20)\n",
    "df1['q11']=0\n",
    "df1['q3']=100\n",
    "df1['q4']=100\n",
    "for x in ['q1','q2','q5','q6','q7','q8','q9','q10','q12','q13','q14','q15','q16','q17','q18']:\n",
    "    df1[x]=0\n",
    "    \n",
    "df1['field']='Artistic'\n",
    "df1['accounts']=np.random.randint(50,60,20)"
   ]
  },
  {
   "cell_type": "code",
   "execution_count": 129,
   "metadata": {},
   "outputs": [
    {
     "name": "stderr",
     "output_type": "stream",
     "text": [
      "/Users/shashankshivam/anaconda3/lib/python3.6/site-packages/ipykernel_launcher.py:1: FutureWarning: Sorting because non-concatenation axis is not aligned. A future version\n",
      "of pandas will change to not sort by default.\n",
      "\n",
      "To accept the future behavior, pass 'sort=False'.\n",
      "\n",
      "To retain the current behavior and silence the warning, pass 'sort=True'.\n",
      "\n",
      "  \"\"\"Entry point for launching an IPython kernel.\n"
     ]
    },
    {
     "data": {
      "text/plain": [
       "(340, 31)"
      ]
     },
     "execution_count": 129,
     "metadata": {},
     "output_type": "execute_result"
    }
   ],
   "source": [
    "artistic=pd.concat([artistic,df1])\n",
    "artistic.shape"
   ]
  },
  {
   "cell_type": "code",
   "execution_count": 131,
   "metadata": {},
   "outputs": [],
   "source": [
    "df1=pd.DataFrame()\n",
    "df1['maths']=np.random.randint(50,60,10)\n",
    "df1['comp']=np.random.randint(50,65,10)\n",
    "df1['ba']=np.random.randint(50,55,10)\n",
    "df1['stats']=np.random.randint(50,60,10)\n",
    "df1['chemistry']=np.random.randint(50,60,10)\n",
    "df1['physics']=np.random.randint(40,60,10)\n",
    "df1['history']=np.random.randint(50,60,10)\n",
    "df1['politics']=np.random.randint(40,50,10)\n",
    "df1['economics']=np.random.randint(50,57,10)\n",
    "df1['english']=np.random.randint(45,65,10)\n",
    "df1['biology']=np.random.randint(40,60,10)\n",
    "df1['q11']=100\n",
    "df1['q3']=100\n",
    "df1['q4']=0\n",
    "for x in ['q1','q2','q5','q6','q7','q8','q9','q10','q12','q13','q14','q15','q16','q17','q18']:\n",
    "    df1[x]=0\n",
    "    \n",
    "df1['field']='Artistic'\n",
    "df1['accounts']=np.random.randint(50,60,10)"
   ]
  },
  {
   "cell_type": "code",
   "execution_count": 132,
   "metadata": {},
   "outputs": [
    {
     "name": "stderr",
     "output_type": "stream",
     "text": [
      "/Users/shashankshivam/anaconda3/lib/python3.6/site-packages/ipykernel_launcher.py:1: FutureWarning: Sorting because non-concatenation axis is not aligned. A future version\n",
      "of pandas will change to not sort by default.\n",
      "\n",
      "To accept the future behavior, pass 'sort=False'.\n",
      "\n",
      "To retain the current behavior and silence the warning, pass 'sort=True'.\n",
      "\n",
      "  \"\"\"Entry point for launching an IPython kernel.\n"
     ]
    },
    {
     "data": {
      "text/plain": [
       "(350, 31)"
      ]
     },
     "execution_count": 132,
     "metadata": {},
     "output_type": "execute_result"
    }
   ],
   "source": [
    "artistic=pd.concat([artistic,df1])\n",
    "artistic.shape"
   ]
  },
  {
   "cell_type": "code",
   "execution_count": 133,
   "metadata": {},
   "outputs": [],
   "source": [
    "#Teaching"
   ]
  },
  {
   "cell_type": "code",
   "execution_count": 146,
   "metadata": {},
   "outputs": [],
   "source": [
    "df['maths']=np.random.randint(70,101,300)\n",
    "df['comp']=np.random.randint(40,60,300)\n",
    "df['ba']=np.random.randint(60,101,300)\n",
    "df['stats']=np.random.randint(70,101,300)\n",
    "df['chemistry']=np.random.randint(40,65,300)\n",
    "df['physics']=np.random.randint(40,50,300)\n",
    "df['history']=np.random.randint(40,57,300)\n",
    "df['politics']=np.random.randint(40,55,300)\n",
    "df['economics']=np.random.randint(45,101,300)\n",
    "df['english']=np.random.randint(70,101,300)\n",
    "df['biology']=np.random.randint(40,50,300)\n",
    "df['accounts']=np.random.randint(40,55,300)\n",
    "df['q12']=100\n",
    "df['q5']=100\n",
    "df['q10']=100\n",
    "for x in ['q1','q2','q3','q4','q6','q7','q8','q9','q11','q13','q14','q15','q16','q17','q18']:\n",
    "    df[x]=0\n",
    "    \n",
    "df['field']='Teaching'"
   ]
  },
  {
   "cell_type": "code",
   "execution_count": 145,
   "metadata": {},
   "outputs": [
    {
     "name": "stderr",
     "output_type": "stream",
     "text": [
      "/Users/shashankshivam/anaconda3/lib/python3.6/site-packages/ipykernel_launcher.py:1: FutureWarning: Sorting because non-concatenation axis is not aligned. A future version\n",
      "of pandas will change to not sort by default.\n",
      "\n",
      "To accept the future behavior, pass 'sort=False'.\n",
      "\n",
      "To retain the current behavior and silence the warning, pass 'sort=True'.\n",
      "\n",
      "  \"\"\"Entry point for launching an IPython kernel.\n"
     ]
    }
   ],
   "source": [
    "\n"
   ]
  },
  {
   "cell_type": "code",
   "execution_count": 143,
   "metadata": {},
   "outputs": [
    {
     "data": {
      "text/plain": [
       "(320, 31)"
      ]
     },
     "execution_count": 143,
     "metadata": {},
     "output_type": "execute_result"
    }
   ],
   "source": [
    "teaching.shape"
   ]
  },
  {
   "cell_type": "code",
   "execution_count": 154,
   "metadata": {},
   "outputs": [],
   "source": [
    "df1=pd.DataFrame()\n",
    "df1['maths']=np.random.randint(50,60,20)\n",
    "df1['comp']=np.random.randint(50,65,20)\n",
    "df1['ba']=np.random.randint(50,55,20)\n",
    "df1['stats']=np.random.randint(50,60,20)\n",
    "df1['chemistry']=np.random.randint(50,60,20)\n",
    "df1['physics']=np.random.randint(40,60,20)\n",
    "df1['history']=np.random.randint(50,60,20)\n",
    "df1['politics']=np.random.randint(40,50,20)\n",
    "df1['economics']=np.random.randint(50,57,20)\n",
    "df1['english']=np.random.randint(45,65,20)\n",
    "df1['biology']=np.random.randint(40,60,20)\n",
    "df1['q11']=100\n",
    "df1['q3']=100\n",
    "df1['q4']=0\n",
    "for x in ['q1','q2','q3','q4','q6','q7','q8','q9','q11','q13','q14','q15','q16','q17','q18']:\n",
    "    df1[x]=0\n",
    "    \n",
    "df1['field']='Teaching'\n",
    "df1['accounts']=np.random.randint(50,60,20)"
   ]
  },
  {
   "cell_type": "code",
   "execution_count": 162,
   "metadata": {},
   "outputs": [],
   "source": [
    "df1=pd.DataFrame()\n",
    "df1['maths']=np.random.randint(50,60,10)\n",
    "df1['comp']=np.random.randint(50,65,10)\n",
    "df1['ba']=np.random.randint(50,55,10)\n",
    "df1['stats']=np.random.randint(50,60,10)\n",
    "df1['chemistry']=np.random.randint(50,60,10)\n",
    "df1['physics']=np.random.randint(40,60,10)\n",
    "df1['history']=np.random.randint(50,60,10)\n",
    "df1['politics']=np.random.randint(40,50,10)\n",
    "df1['economics']=np.random.randint(50,57,10)\n",
    "df1['english']=np.random.randint(45,65,10)\n",
    "df1['biology']=np.random.randint(40,60,10)\n",
    "df1['q11']=100\n",
    "df1['q3']=0\n",
    "df1['q4']=100\n",
    "for x in ['q1','q2','q3','q4','q6','q7','q8','q9','q11','q13','q14','q15','q16','q17','q18']:\n",
    "    df1[x]=0\n",
    "    \n",
    "df1['field']='Teaching'\n",
    "df1['accounts']=np.random.randint(50,60,10)"
   ]
  },
  {
   "cell_type": "code",
   "execution_count": 163,
   "metadata": {},
   "outputs": [
    {
     "name": "stderr",
     "output_type": "stream",
     "text": [
      "/Users/shashankshivam/anaconda3/lib/python3.6/site-packages/ipykernel_launcher.py:1: FutureWarning: Sorting because non-concatenation axis is not aligned. A future version\n",
      "of pandas will change to not sort by default.\n",
      "\n",
      "To accept the future behavior, pass 'sort=False'.\n",
      "\n",
      "To retain the current behavior and silence the warning, pass 'sort=True'.\n",
      "\n",
      "  \"\"\"Entry point for launching an IPython kernel.\n"
     ]
    },
    {
     "data": {
      "text/plain": [
       "(350, 31)"
      ]
     },
     "execution_count": 163,
     "metadata": {},
     "output_type": "execute_result"
    }
   ],
   "source": [
    "teaching=pd.concat([teaching,df1])\n",
    "teaching.shape"
   ]
  },
  {
   "cell_type": "code",
   "execution_count": 164,
   "metadata": {},
   "outputs": [
    {
     "data": {
      "text/plain": [
       "(350, 31)"
      ]
     },
     "execution_count": 164,
     "metadata": {},
     "output_type": "execute_result"
    }
   ],
   "source": [
    "teaching.shape"
   ]
  },
  {
   "cell_type": "code",
   "execution_count": 169,
   "metadata": {},
   "outputs": [
    {
     "data": {
      "text/plain": [
       "(350, 31)"
      ]
     },
     "execution_count": 169,
     "metadata": {},
     "output_type": "execute_result"
    }
   ],
   "source": [
    "artistic.shape"
   ]
  },
  {
   "cell_type": "code",
   "execution_count": 171,
   "metadata": {},
   "outputs": [
    {
     "data": {
      "text/html": [
       "<div>\n",
       "<style scoped>\n",
       "    .dataframe tbody tr th:only-of-type {\n",
       "        vertical-align: middle;\n",
       "    }\n",
       "\n",
       "    .dataframe tbody tr th {\n",
       "        vertical-align: top;\n",
       "    }\n",
       "\n",
       "    .dataframe thead th {\n",
       "        text-align: right;\n",
       "    }\n",
       "</style>\n",
       "<table border=\"1\" class=\"dataframe\">\n",
       "  <thead>\n",
       "    <tr style=\"text-align: right;\">\n",
       "      <th></th>\n",
       "      <th>accounts</th>\n",
       "      <th>ba</th>\n",
       "      <th>biology</th>\n",
       "      <th>chemistry</th>\n",
       "      <th>comp</th>\n",
       "      <th>economics</th>\n",
       "      <th>english</th>\n",
       "      <th>history</th>\n",
       "      <th>maths</th>\n",
       "      <th>physics</th>\n",
       "      <th>...</th>\n",
       "      <th>q18</th>\n",
       "      <th>q2</th>\n",
       "      <th>q3</th>\n",
       "      <th>q4</th>\n",
       "      <th>q5</th>\n",
       "      <th>q6</th>\n",
       "      <th>q7</th>\n",
       "      <th>q8</th>\n",
       "      <th>q9</th>\n",
       "      <th>stats</th>\n",
       "    </tr>\n",
       "    <tr>\n",
       "      <th>field</th>\n",
       "      <th></th>\n",
       "      <th></th>\n",
       "      <th></th>\n",
       "      <th></th>\n",
       "      <th></th>\n",
       "      <th></th>\n",
       "      <th></th>\n",
       "      <th></th>\n",
       "      <th></th>\n",
       "      <th></th>\n",
       "      <th></th>\n",
       "      <th></th>\n",
       "      <th></th>\n",
       "      <th></th>\n",
       "      <th></th>\n",
       "      <th></th>\n",
       "      <th></th>\n",
       "      <th></th>\n",
       "      <th></th>\n",
       "      <th></th>\n",
       "      <th></th>\n",
       "    </tr>\n",
       "  </thead>\n",
       "  <tbody>\n",
       "    <tr>\n",
       "      <th>1</th>\n",
       "      <td>350</td>\n",
       "      <td>350</td>\n",
       "      <td>350</td>\n",
       "      <td>350</td>\n",
       "      <td>350</td>\n",
       "      <td>350</td>\n",
       "      <td>350</td>\n",
       "      <td>350</td>\n",
       "      <td>350</td>\n",
       "      <td>350</td>\n",
       "      <td>...</td>\n",
       "      <td>350</td>\n",
       "      <td>350</td>\n",
       "      <td>350</td>\n",
       "      <td>350</td>\n",
       "      <td>350</td>\n",
       "      <td>350</td>\n",
       "      <td>350</td>\n",
       "      <td>350</td>\n",
       "      <td>350</td>\n",
       "      <td>350</td>\n",
       "    </tr>\n",
       "    <tr>\n",
       "      <th>2</th>\n",
       "      <td>350</td>\n",
       "      <td>350</td>\n",
       "      <td>350</td>\n",
       "      <td>350</td>\n",
       "      <td>350</td>\n",
       "      <td>350</td>\n",
       "      <td>350</td>\n",
       "      <td>350</td>\n",
       "      <td>350</td>\n",
       "      <td>350</td>\n",
       "      <td>...</td>\n",
       "      <td>350</td>\n",
       "      <td>350</td>\n",
       "      <td>350</td>\n",
       "      <td>350</td>\n",
       "      <td>350</td>\n",
       "      <td>350</td>\n",
       "      <td>350</td>\n",
       "      <td>350</td>\n",
       "      <td>350</td>\n",
       "      <td>350</td>\n",
       "    </tr>\n",
       "    <tr>\n",
       "      <th>3</th>\n",
       "      <td>350</td>\n",
       "      <td>350</td>\n",
       "      <td>350</td>\n",
       "      <td>350</td>\n",
       "      <td>350</td>\n",
       "      <td>350</td>\n",
       "      <td>350</td>\n",
       "      <td>350</td>\n",
       "      <td>350</td>\n",
       "      <td>350</td>\n",
       "      <td>...</td>\n",
       "      <td>350</td>\n",
       "      <td>350</td>\n",
       "      <td>350</td>\n",
       "      <td>350</td>\n",
       "      <td>350</td>\n",
       "      <td>350</td>\n",
       "      <td>350</td>\n",
       "      <td>350</td>\n",
       "      <td>350</td>\n",
       "      <td>350</td>\n",
       "    </tr>\n",
       "    <tr>\n",
       "      <th>4</th>\n",
       "      <td>350</td>\n",
       "      <td>350</td>\n",
       "      <td>350</td>\n",
       "      <td>350</td>\n",
       "      <td>350</td>\n",
       "      <td>350</td>\n",
       "      <td>350</td>\n",
       "      <td>350</td>\n",
       "      <td>350</td>\n",
       "      <td>350</td>\n",
       "      <td>...</td>\n",
       "      <td>350</td>\n",
       "      <td>350</td>\n",
       "      <td>350</td>\n",
       "      <td>350</td>\n",
       "      <td>350</td>\n",
       "      <td>350</td>\n",
       "      <td>350</td>\n",
       "      <td>350</td>\n",
       "      <td>350</td>\n",
       "      <td>350</td>\n",
       "    </tr>\n",
       "  </tbody>\n",
       "</table>\n",
       "<p>4 rows × 30 columns</p>\n",
       "</div>"
      ],
      "text/plain": [
       "       accounts   ba  biology  chemistry  comp  economics  english  history  \\\n",
       "field                                                                         \n",
       "1           350  350      350        350   350        350      350      350   \n",
       "2           350  350      350        350   350        350      350      350   \n",
       "3           350  350      350        350   350        350      350      350   \n",
       "4           350  350      350        350   350        350      350      350   \n",
       "\n",
       "       maths  physics  ...  q18   q2   q3   q4   q5   q6   q7   q8   q9  stats  \n",
       "field                  ...                                                      \n",
       "1        350      350  ...  350  350  350  350  350  350  350  350  350    350  \n",
       "2        350      350  ...  350  350  350  350  350  350  350  350  350    350  \n",
       "3        350      350  ...  350  350  350  350  350  350  350  350  350    350  \n",
       "4        350      350  ...  350  350  350  350  350  350  350  350  350    350  \n",
       "\n",
       "[4 rows x 30 columns]"
      ]
     },
     "execution_count": 171,
     "metadata": {},
     "output_type": "execute_result"
    }
   ],
   "source": [
    "final.groupby('field').count()"
   ]
  },
  {
   "cell_type": "code",
   "execution_count": 172,
   "metadata": {},
   "outputs": [],
   "source": [
    "final = pd.concat([final,artistic,teaching])"
   ]
  },
  {
   "cell_type": "code",
   "execution_count": 173,
   "metadata": {},
   "outputs": [
    {
     "data": {
      "text/plain": [
       "(2100, 31)"
      ]
     },
     "execution_count": 173,
     "metadata": {},
     "output_type": "execute_result"
    }
   ],
   "source": [
    "final.shape"
   ]
  },
  {
   "cell_type": "code",
   "execution_count": 179,
   "metadata": {},
   "outputs": [],
   "source": [
    "final['q5'].fillna(0,inplace=True)"
   ]
  },
  {
   "cell_type": "code",
   "execution_count": 302,
   "metadata": {},
   "outputs": [
    {
     "data": {
      "text/plain": [
       "accounts     0\n",
       "ba           0\n",
       "biology      0\n",
       "chemistry    0\n",
       "comp         0\n",
       "economics    0\n",
       "english      0\n",
       "field        0\n",
       "history      0\n",
       "maths        0\n",
       "physics      0\n",
       "politics     0\n",
       "q1           0\n",
       "q10          0\n",
       "q11          0\n",
       "q12          0\n",
       "q13          0\n",
       "q14          0\n",
       "q15          0\n",
       "q16          0\n",
       "q17          0\n",
       "q18          0\n",
       "q2           0\n",
       "q3           0\n",
       "q4           0\n",
       "q5           0\n",
       "q6           0\n",
       "q7           0\n",
       "q8           0\n",
       "q9           0\n",
       "stats        0\n",
       "dtype: int64"
      ]
     },
     "execution_count": 302,
     "metadata": {},
     "output_type": "execute_result"
    }
   ],
   "source": [
    "final.isna().sum()"
   ]
  },
  {
   "cell_type": "code",
   "execution_count": 181,
   "metadata": {},
   "outputs": [],
   "source": [
    "final.fillna(1,inplace=True)"
   ]
  },
  {
   "cell_type": "code",
   "execution_count": 189,
   "metadata": {},
   "outputs": [],
   "source": [
    "f1=final"
   ]
  },
  {
   "cell_type": "code",
   "execution_count": 190,
   "metadata": {},
   "outputs": [],
   "source": [
    "df1=pd.DataFrame()\n",
    "df1['maths']=np.random.randint(40,60,30)\n",
    "df1['comp']=np.random.randint(40,60,30)\n",
    "df1['ba']=np.random.randint(40,60,30)\n",
    "df1['stats']=np.random.randint(40,60,30)\n",
    "df1['chemistry']=np.random.randint(40,60,30)\n",
    "df1['physics']=np.random.randint(40,60,30)\n",
    "df1['history']=np.random.randint(40,60,30)\n",
    "df1['politics']=np.random.randint(40,60,30)\n",
    "df1['economics']=np.random.randint(40,60,30)\n",
    "df1['english']=np.random.randint(40,60,30)\n",
    "df1['biology']=np.random.randint(40,60,30)\n",
    "df1['q4']=0\n",
    "df1['q5']=0\n",
    "df1['q6']=0\n",
    "for x in ['q1','q2','q3','q7','q8','q9','q10','q11','q12','q13','q14','q15','q16','q17','q18']:\n",
    "    df1[x]=100\n",
    "    \n",
    "df1['field']=np.random.randint(1,7,30)\n",
    "df1['accounts']=np.random.randint(50,60,30)"
   ]
  },
  {
   "cell_type": "code",
   "execution_count": 191,
   "metadata": {},
   "outputs": [
    {
     "name": "stderr",
     "output_type": "stream",
     "text": [
      "/Users/shashankshivam/anaconda3/lib/python3.6/site-packages/ipykernel_launcher.py:1: FutureWarning: Sorting because non-concatenation axis is not aligned. A future version\n",
      "of pandas will change to not sort by default.\n",
      "\n",
      "To accept the future behavior, pass 'sort=False'.\n",
      "\n",
      "To retain the current behavior and silence the warning, pass 'sort=True'.\n",
      "\n",
      "  \"\"\"Entry point for launching an IPython kernel.\n"
     ]
    }
   ],
   "source": [
    "f1=pd.concat([df1,f1])"
   ]
  },
  {
   "cell_type": "code",
   "execution_count": 284,
   "metadata": {},
   "outputs": [
    {
     "ename": "KeyError",
     "evalue": "\"['q13' 'q14' 'q15' 'q16' 'q17' 'q18'] not found in axis\"",
     "output_type": "error",
     "traceback": [
      "\u001b[0;31m---------------------------------------------------------------------------\u001b[0m",
      "\u001b[0;31mKeyError\u001b[0m                                  Traceback (most recent call last)",
      "\u001b[0;32m<ipython-input-284-b0d71e3d94e6>\u001b[0m in \u001b[0;36m<module>\u001b[0;34m\u001b[0m\n\u001b[0;32m----> 1\u001b[0;31m \u001b[0mf1\u001b[0m\u001b[0;34m=\u001b[0m\u001b[0mf1\u001b[0m\u001b[0;34m.\u001b[0m\u001b[0mdrop\u001b[0m\u001b[0;34m(\u001b[0m\u001b[0mcolumns\u001b[0m\u001b[0;34m=\u001b[0m\u001b[0;34m[\u001b[0m\u001b[0;34m'q13'\u001b[0m\u001b[0;34m,\u001b[0m\u001b[0;34m'q14'\u001b[0m\u001b[0;34m,\u001b[0m\u001b[0;34m'q15'\u001b[0m\u001b[0;34m,\u001b[0m\u001b[0;34m'q16'\u001b[0m\u001b[0;34m,\u001b[0m\u001b[0;34m'q17'\u001b[0m\u001b[0;34m,\u001b[0m\u001b[0;34m'q18'\u001b[0m\u001b[0;34m]\u001b[0m\u001b[0;34m)\u001b[0m\u001b[0;34m\u001b[0m\u001b[0;34m\u001b[0m\u001b[0m\n\u001b[0m",
      "\u001b[0;32m~/anaconda3/lib/python3.6/site-packages/pandas/core/frame.py\u001b[0m in \u001b[0;36mdrop\u001b[0;34m(self, labels, axis, index, columns, level, inplace, errors)\u001b[0m\n\u001b[1;32m   3938\u001b[0m                                            \u001b[0mindex\u001b[0m\u001b[0;34m=\u001b[0m\u001b[0mindex\u001b[0m\u001b[0;34m,\u001b[0m \u001b[0mcolumns\u001b[0m\u001b[0;34m=\u001b[0m\u001b[0mcolumns\u001b[0m\u001b[0;34m,\u001b[0m\u001b[0;34m\u001b[0m\u001b[0;34m\u001b[0m\u001b[0m\n\u001b[1;32m   3939\u001b[0m                                            \u001b[0mlevel\u001b[0m\u001b[0;34m=\u001b[0m\u001b[0mlevel\u001b[0m\u001b[0;34m,\u001b[0m \u001b[0minplace\u001b[0m\u001b[0;34m=\u001b[0m\u001b[0minplace\u001b[0m\u001b[0;34m,\u001b[0m\u001b[0;34m\u001b[0m\u001b[0;34m\u001b[0m\u001b[0m\n\u001b[0;32m-> 3940\u001b[0;31m                                            errors=errors)\n\u001b[0m\u001b[1;32m   3941\u001b[0m \u001b[0;34m\u001b[0m\u001b[0m\n\u001b[1;32m   3942\u001b[0m     @rewrite_axis_style_signature('mapper', [('copy', True),\n",
      "\u001b[0;32m~/anaconda3/lib/python3.6/site-packages/pandas/core/generic.py\u001b[0m in \u001b[0;36mdrop\u001b[0;34m(self, labels, axis, index, columns, level, inplace, errors)\u001b[0m\n\u001b[1;32m   3778\u001b[0m         \u001b[0;32mfor\u001b[0m \u001b[0maxis\u001b[0m\u001b[0;34m,\u001b[0m \u001b[0mlabels\u001b[0m \u001b[0;32min\u001b[0m \u001b[0maxes\u001b[0m\u001b[0;34m.\u001b[0m\u001b[0mitems\u001b[0m\u001b[0;34m(\u001b[0m\u001b[0;34m)\u001b[0m\u001b[0;34m:\u001b[0m\u001b[0;34m\u001b[0m\u001b[0;34m\u001b[0m\u001b[0m\n\u001b[1;32m   3779\u001b[0m             \u001b[0;32mif\u001b[0m \u001b[0mlabels\u001b[0m \u001b[0;32mis\u001b[0m \u001b[0;32mnot\u001b[0m \u001b[0;32mNone\u001b[0m\u001b[0;34m:\u001b[0m\u001b[0;34m\u001b[0m\u001b[0;34m\u001b[0m\u001b[0m\n\u001b[0;32m-> 3780\u001b[0;31m                 \u001b[0mobj\u001b[0m \u001b[0;34m=\u001b[0m \u001b[0mobj\u001b[0m\u001b[0;34m.\u001b[0m\u001b[0m_drop_axis\u001b[0m\u001b[0;34m(\u001b[0m\u001b[0mlabels\u001b[0m\u001b[0;34m,\u001b[0m \u001b[0maxis\u001b[0m\u001b[0;34m,\u001b[0m \u001b[0mlevel\u001b[0m\u001b[0;34m=\u001b[0m\u001b[0mlevel\u001b[0m\u001b[0;34m,\u001b[0m \u001b[0merrors\u001b[0m\u001b[0;34m=\u001b[0m\u001b[0merrors\u001b[0m\u001b[0;34m)\u001b[0m\u001b[0;34m\u001b[0m\u001b[0;34m\u001b[0m\u001b[0m\n\u001b[0m\u001b[1;32m   3781\u001b[0m \u001b[0;34m\u001b[0m\u001b[0m\n\u001b[1;32m   3782\u001b[0m         \u001b[0;32mif\u001b[0m \u001b[0minplace\u001b[0m\u001b[0;34m:\u001b[0m\u001b[0;34m\u001b[0m\u001b[0;34m\u001b[0m\u001b[0m\n",
      "\u001b[0;32m~/anaconda3/lib/python3.6/site-packages/pandas/core/generic.py\u001b[0m in \u001b[0;36m_drop_axis\u001b[0;34m(self, labels, axis, level, errors)\u001b[0m\n\u001b[1;32m   3810\u001b[0m                 \u001b[0mnew_axis\u001b[0m \u001b[0;34m=\u001b[0m \u001b[0maxis\u001b[0m\u001b[0;34m.\u001b[0m\u001b[0mdrop\u001b[0m\u001b[0;34m(\u001b[0m\u001b[0mlabels\u001b[0m\u001b[0;34m,\u001b[0m \u001b[0mlevel\u001b[0m\u001b[0;34m=\u001b[0m\u001b[0mlevel\u001b[0m\u001b[0;34m,\u001b[0m \u001b[0merrors\u001b[0m\u001b[0;34m=\u001b[0m\u001b[0merrors\u001b[0m\u001b[0;34m)\u001b[0m\u001b[0;34m\u001b[0m\u001b[0;34m\u001b[0m\u001b[0m\n\u001b[1;32m   3811\u001b[0m             \u001b[0;32melse\u001b[0m\u001b[0;34m:\u001b[0m\u001b[0;34m\u001b[0m\u001b[0;34m\u001b[0m\u001b[0m\n\u001b[0;32m-> 3812\u001b[0;31m                 \u001b[0mnew_axis\u001b[0m \u001b[0;34m=\u001b[0m \u001b[0maxis\u001b[0m\u001b[0;34m.\u001b[0m\u001b[0mdrop\u001b[0m\u001b[0;34m(\u001b[0m\u001b[0mlabels\u001b[0m\u001b[0;34m,\u001b[0m \u001b[0merrors\u001b[0m\u001b[0;34m=\u001b[0m\u001b[0merrors\u001b[0m\u001b[0;34m)\u001b[0m\u001b[0;34m\u001b[0m\u001b[0;34m\u001b[0m\u001b[0m\n\u001b[0m\u001b[1;32m   3813\u001b[0m             \u001b[0mresult\u001b[0m \u001b[0;34m=\u001b[0m \u001b[0mself\u001b[0m\u001b[0;34m.\u001b[0m\u001b[0mreindex\u001b[0m\u001b[0;34m(\u001b[0m\u001b[0;34m**\u001b[0m\u001b[0;34m{\u001b[0m\u001b[0maxis_name\u001b[0m\u001b[0;34m:\u001b[0m \u001b[0mnew_axis\u001b[0m\u001b[0;34m}\u001b[0m\u001b[0;34m)\u001b[0m\u001b[0;34m\u001b[0m\u001b[0;34m\u001b[0m\u001b[0m\n\u001b[1;32m   3814\u001b[0m \u001b[0;34m\u001b[0m\u001b[0m\n",
      "\u001b[0;32m~/anaconda3/lib/python3.6/site-packages/pandas/core/indexes/base.py\u001b[0m in \u001b[0;36mdrop\u001b[0;34m(self, labels, errors)\u001b[0m\n\u001b[1;32m   4963\u001b[0m             \u001b[0;32mif\u001b[0m \u001b[0merrors\u001b[0m \u001b[0;34m!=\u001b[0m \u001b[0;34m'ignore'\u001b[0m\u001b[0;34m:\u001b[0m\u001b[0;34m\u001b[0m\u001b[0;34m\u001b[0m\u001b[0m\n\u001b[1;32m   4964\u001b[0m                 raise KeyError(\n\u001b[0;32m-> 4965\u001b[0;31m                     '{} not found in axis'.format(labels[mask]))\n\u001b[0m\u001b[1;32m   4966\u001b[0m             \u001b[0mindexer\u001b[0m \u001b[0;34m=\u001b[0m \u001b[0mindexer\u001b[0m\u001b[0;34m[\u001b[0m\u001b[0;34m~\u001b[0m\u001b[0mmask\u001b[0m\u001b[0;34m]\u001b[0m\u001b[0;34m\u001b[0m\u001b[0;34m\u001b[0m\u001b[0m\n\u001b[1;32m   4967\u001b[0m         \u001b[0;32mreturn\u001b[0m \u001b[0mself\u001b[0m\u001b[0;34m.\u001b[0m\u001b[0mdelete\u001b[0m\u001b[0;34m(\u001b[0m\u001b[0mindexer\u001b[0m\u001b[0;34m)\u001b[0m\u001b[0;34m\u001b[0m\u001b[0;34m\u001b[0m\u001b[0m\n",
      "\u001b[0;31mKeyError\u001b[0m: \"['q13' 'q14' 'q15' 'q16' 'q17' 'q18'] not found in axis\""
     ]
    }
   ],
   "source": [
    "f1=f1.drop(columns=['q13','q14','q15','q16','q17','q18'])"
   ]
  },
  {
   "cell_type": "code",
   "execution_count": 352,
   "metadata": {},
   "outputs": [],
   "source": [
    "X=f1.drop(['field'],1)\n",
    "X=X.values\n",
    "y=f1['field']\n",
    "y=y.values"
   ]
  },
  {
   "cell_type": "code",
   "execution_count": 353,
   "metadata": {},
   "outputs": [
    {
     "name": "stderr",
     "output_type": "stream",
     "text": [
      "/Users/shashankshivam/anaconda3/lib/python3.6/site-packages/sklearn/svm/base.py:193: FutureWarning: The default value of gamma will change from 'auto' to 'scale' in version 0.22 to account better for unscaled features. Set gamma explicitly to 'auto' or 'scale' to avoid this warning.\n",
      "  \"avoid this warning.\", FutureWarning)\n"
     ]
    },
    {
     "name": "stdout",
     "output_type": "stream",
     "text": [
      "              precision    recall  f1-score   support\n",
      "\n",
      "         1.0       0.00      0.00      0.00       182\n",
      "         2.0       0.00      0.00      0.00       168\n",
      "         3.0       1.00      0.03      0.07       177\n",
      "         4.0       0.28      1.00      0.44       318\n",
      "         5.0       0.00      0.00      0.00        78\n",
      "         6.0       0.00      0.00      0.00       213\n",
      "\n",
      "    accuracy                           0.29      1136\n",
      "   macro avg       0.21      0.17      0.08      1136\n",
      "weighted avg       0.23      0.29      0.13      1136\n",
      "\n",
      "[[  0   0   0 182   0   0]\n",
      " [  0   0   0 168   0   0]\n",
      " [  0   0   6 171   0   0]\n",
      " [  0   0   0 318   0   0]\n",
      " [  0   0   0  78   0   0]\n",
      " [  0   0   0 213   0   0]]\n",
      "0.2852112676056338\n"
     ]
    },
    {
     "name": "stderr",
     "output_type": "stream",
     "text": [
      "/Users/shashankshivam/anaconda3/lib/python3.6/site-packages/sklearn/metrics/classification.py:1437: UndefinedMetricWarning: Precision and F-score are ill-defined and being set to 0.0 in labels with no predicted samples.\n",
      "  'precision', 'predicted', average, warn_for)\n"
     ]
    }
   ],
   "source": [
    "import sklearn\n",
    "from sklearn.model_selection import train_test_split\n",
    "X_train, X_test, y_train, y_test = train_test_split(X, y, test_size=0.33, random_state=42)\n",
    "from sklearn import svm\n",
    "from sklearn.svm import SVC\n",
    "from sklearn import metrics\n",
    "from sklearn.metrics import accuracy_score\n",
    "\n",
    "model = svm.SVC(kernel = \"rbf\")\n",
    "model.fit(X_train, y_train)\n",
    "pred_y = model.predict(X_test)\n",
    "print(metrics.classification_report(y_test, pred_y))\n",
    "print(metrics.confusion_matrix(y_test,pred_y))\n",
    "print(accuracy_score(y_test, pred_y))\n",
    "svm_score=accuracy_score(y_test, pred_y)"
   ]
  },
  {
   "cell_type": "markdown",
   "metadata": {},
   "source": [
    "df1=pd.DataFrame()\n",
    "df1['maths']=np.random.randint(40,60,30)\n",
    "df1['comp']=np.random.randint(40,60,30)\n",
    "df1['ba']=np.random.randint(40,60,30)\n",
    "df1['stats']=np.random.randint(40,60,30)\n",
    "df1['chemistry']=np.random.randint(40,60,30)\n",
    "df1['physics']=np.random.randint(40,60,30)\n",
    "df1['history']=np.random.randint(40,60,30)\n",
    "df1['politics']=np.random.randint(40,60,30)\n",
    "df1['economics']=np.random.randint(40,60,30)\n",
    "df1['english']=np.random.randint(40,60,30)\n",
    "df1['biology']=np.random.randint(40,60,30)\n",
    "df1['q1']=0\n",
    "df1['q2']=0\n",
    "df1['q3']=0\n",
    "for x in ['q4','q5','q6','q7','q8','q9','q10','q11','q12']:\n",
    "    df1[x]=100\n",
    "    \n",
    "df1['field']=np.random.randint(1,7,30)\n",
    "df1['accounts']=np.random.randint(50,60,30)"
   ]
  },
  {
   "cell_type": "code",
   "execution_count": 241,
   "metadata": {},
   "outputs": [
    {
     "name": "stderr",
     "output_type": "stream",
     "text": [
      "/Users/shashankshivam/anaconda3/lib/python3.6/site-packages/ipykernel_launcher.py:1: FutureWarning: Sorting because non-concatenation axis is not aligned. A future version\n",
      "of pandas will change to not sort by default.\n",
      "\n",
      "To accept the future behavior, pass 'sort=False'.\n",
      "\n",
      "To retain the current behavior and silence the warning, pass 'sort=True'.\n",
      "\n",
      "  \"\"\"Entry point for launching an IPython kernel.\n"
     ]
    }
   ],
   "source": [
    "f1=pd.concat([df1,f1])"
   ]
  },
  {
   "cell_type": "code",
   "execution_count": 209,
   "metadata": {},
   "outputs": [],
   "source": [
    "df1=pd.DataFrame()\n",
    "df1['maths']=np.random.randint(40,60,30)\n",
    "df1['comp']=np.random.randint(40,60,30)\n",
    "df1['ba']=np.random.randint(40,60,30)\n",
    "df1['stats']=np.random.randint(40,60,30)\n",
    "df1['chemistry']=np.random.randint(40,60,30)\n",
    "df1['physics']=np.random.randint(40,60,30)\n",
    "df1['history']=np.random.randint(40,60,30)\n",
    "df1['politics']=np.random.randint(40,60,30)\n",
    "df1['economics']=np.random.randint(40,60,30)\n",
    "df1['english']=np.random.randint(40,60,30)\n",
    "df1['biology']=np.random.randint(40,60,30)\n",
    "df1['q1']=0\n",
    "df1['q2']=100\n",
    "df1['q3']=0\n",
    "df1['q4']=100\n",
    "for x in ['q5','q6','q7','q8','q9','q10','q11','q12']:\n",
    "    df1[x]=0\n",
    "    \n",
    "df1['field']=1\n",
    "df1['accounts']=np.random.randint(50,60,30)"
   ]
  },
  {
   "cell_type": "code",
   "execution_count": 227,
   "metadata": {},
   "outputs": [],
   "source": [
    "df1=pd.DataFrame()\n",
    "df1['maths']=np.random.randint(40,60,300)\n",
    "df1['comp']=np.random.randint(40,60,300)\n",
    "df1['ba']=np.random.randint(40,60,300)\n",
    "df1['stats']=np.random.randint(40,60,300)\n",
    "df1['chemistry']=np.random.randint(40,60,300)\n",
    "df1['physics']=np.random.randint(40,60,300)\n",
    "df1['history']=np.random.randint(40,60,300)\n",
    "df1['politics']=np.random.randint(40,60,300)\n",
    "df1['economics']=np.random.randint(40,60,300)\n",
    "df1['english']=np.random.randint(40,60,300)\n",
    "df1['biology']=np.random.randint(40,60,300)\n",
    "\n",
    "for x in ['q1','q2','q3','q4','q5','q6','q7','q8','q9','q10','q11','q12']:\n",
    "    df1[x]=np.random.randint(0,101,300)\n",
    "    \n",
    "df1['field']=np.random.randint(1,7,300)\n",
    "df1['accounts']=np.random.randint(50,60,300)"
   ]
  },
  {
   "cell_type": "code",
   "execution_count": 221,
   "metadata": {},
   "outputs": [
    {
     "data": {
      "text/plain": [
       "(2280, 25)"
      ]
     },
     "execution_count": 221,
     "metadata": {},
     "output_type": "execute_result"
    }
   ],
   "source": [
    "f1.shape"
   ]
  },
  {
   "cell_type": "code",
   "execution_count": 354,
   "metadata": {},
   "outputs": [
    {
     "name": "stdout",
     "output_type": "stream",
     "text": [
      "              precision    recall  f1-score   support\n",
      "\n",
      "         1.0       0.81      0.68      0.74       182\n",
      "         2.0       0.91      0.73      0.81       168\n",
      "         3.0       0.88      0.59      0.71       177\n",
      "         4.0       0.99      0.59      0.74       318\n",
      "         5.0       0.18      0.96      0.30        78\n",
      "         6.0       0.97      0.53      0.69       213\n",
      "\n",
      "    accuracy                           0.64      1136\n",
      "   macro avg       0.79      0.68      0.66      1136\n",
      "weighted avg       0.88      0.64      0.71      1136\n",
      "\n",
      "[[123   0   7   0  52   0]\n",
      " [  9 123   0   0  34   2]\n",
      " [ 14   0 105   0  57   1]\n",
      " [  0   2   5 188 123   0]\n",
      " [  1   0   1   1  75   0]\n",
      " [  5  10   1   0  84 113]]\n",
      "0.6399647887323944\n"
     ]
    },
    {
     "data": {
      "text/plain": [
       "63.99647887323944"
      ]
     },
     "execution_count": 354,
     "metadata": {},
     "output_type": "execute_result"
    }
   ],
   "source": [
    "from sklearn.naive_bayes import GaussianNB\n",
    "model = GaussianNB()\n",
    "model.fit(X_train,y_train)\n",
    "prediction = model.predict(X_test)\n",
    "\n",
    "print(metrics.classification_report(y_test, prediction))\n",
    "print(metrics.confusion_matrix(y_test,prediction))\n",
    "print(accuracy_score(y_test, prediction))\n",
    "accuracy_score(y_test,prediction)*100"
   ]
  },
  {
   "cell_type": "code",
   "execution_count": 234,
   "metadata": {},
   "outputs": [
    {
     "data": {
      "text/plain": [
       "(2100, 30)"
      ]
     },
     "execution_count": 234,
     "metadata": {},
     "output_type": "execute_result"
    }
   ],
   "source": [
    "X.shape"
   ]
  },
  {
   "cell_type": "code",
   "execution_count": 350,
   "metadata": {},
   "outputs": [],
   "source": [
    "df=pd.DataFrame()\n",
    "df['maths']=np.random.randint(50,65,50)\n",
    "df['comp']=np.random.randint(66,75,50)\n",
    "df['ba']=np.random.randint(45,50,50)\n",
    "df['stats']=np.random.randint(40,50,50)\n",
    "df['chemistry']=np.random.randint(60,75,50)\n",
    "df['physics']=np.random.randint(50,75,50)\n",
    "df['history']=np.random.randint(55,60,50)\n",
    "df['politics']=np.random.randint(45,50,50)\n",
    "df['economics']=np.random.randint(40,50,50)\n",
    "df['english']=np.random.randint(46,55,50)\n",
    "df['biology']=np.random.randint(46,65,50)\n",
    "df['accounts']=np.random.randint(40,50,50)\n",
    "df['q4']=0\n",
    "df['q5']=0\n",
    "for x in ['q1','q2','q3','q6','q7','q8','q9','q10','q11','q12']:\n",
    "    df[x]=np.random.randint(1,101,50)\n",
    "    \n",
    "df['field']=2"
   ]
  },
  {
   "cell_type": "code",
   "execution_count": 351,
   "metadata": {},
   "outputs": [
    {
     "name": "stderr",
     "output_type": "stream",
     "text": [
      "/Users/shashankshivam/anaconda3/lib/python3.6/site-packages/ipykernel_launcher.py:1: FutureWarning: Sorting because non-concatenation axis is not aligned. A future version\n",
      "of pandas will change to not sort by default.\n",
      "\n",
      "To accept the future behavior, pass 'sort=False'.\n",
      "\n",
      "To retain the current behavior and silence the warning, pass 'sort=True'.\n",
      "\n",
      "  \"\"\"Entry point for launching an IPython kernel.\n"
     ]
    }
   ],
   "source": [
    "f1=pd.concat([f1,df])"
   ]
  },
  {
   "cell_type": "code",
   "execution_count": 337,
   "metadata": {},
   "outputs": [
    {
     "ename": "KeyError",
     "evalue": "\"['accounts' 'ba' 'biology' 'chemistry' 'comp' 'economics' 'english'\\n 'field' 'history' 'maths' 'physics' 'politics' 'q1' 'q10' 'q11' 'q12'\\n 'q2' 'q3' 'q4' 'q5' 'q6' 'q7' 'q8' 'q9' 'stats'] not found in axis\"",
     "output_type": "error",
     "traceback": [
      "\u001b[0;31m---------------------------------------------------------------------------\u001b[0m",
      "\u001b[0;31mKeyError\u001b[0m                                  Traceback (most recent call last)",
      "\u001b[0;32m<ipython-input-337-bfca3d971723>\u001b[0m in \u001b[0;36m<module>\u001b[0;34m\u001b[0m\n\u001b[0;32m----> 1\u001b[0;31m \u001b[0mf1\u001b[0m\u001b[0;34m.\u001b[0m\u001b[0mdrop\u001b[0m\u001b[0;34m(\u001b[0m\u001b[0mf1\u001b[0m\u001b[0;34m.\u001b[0m\u001b[0misnull\u001b[0m\u001b[0;34m(\u001b[0m\u001b[0;34m)\u001b[0m\u001b[0;34m)\u001b[0m\u001b[0;34m\u001b[0m\u001b[0;34m\u001b[0m\u001b[0m\n\u001b[0m",
      "\u001b[0;32m~/anaconda3/lib/python3.6/site-packages/pandas/core/frame.py\u001b[0m in \u001b[0;36mdrop\u001b[0;34m(self, labels, axis, index, columns, level, inplace, errors)\u001b[0m\n\u001b[1;32m   3938\u001b[0m                                            \u001b[0mindex\u001b[0m\u001b[0;34m=\u001b[0m\u001b[0mindex\u001b[0m\u001b[0;34m,\u001b[0m \u001b[0mcolumns\u001b[0m\u001b[0;34m=\u001b[0m\u001b[0mcolumns\u001b[0m\u001b[0;34m,\u001b[0m\u001b[0;34m\u001b[0m\u001b[0;34m\u001b[0m\u001b[0m\n\u001b[1;32m   3939\u001b[0m                                            \u001b[0mlevel\u001b[0m\u001b[0;34m=\u001b[0m\u001b[0mlevel\u001b[0m\u001b[0;34m,\u001b[0m \u001b[0minplace\u001b[0m\u001b[0;34m=\u001b[0m\u001b[0minplace\u001b[0m\u001b[0;34m,\u001b[0m\u001b[0;34m\u001b[0m\u001b[0;34m\u001b[0m\u001b[0m\n\u001b[0;32m-> 3940\u001b[0;31m                                            errors=errors)\n\u001b[0m\u001b[1;32m   3941\u001b[0m \u001b[0;34m\u001b[0m\u001b[0m\n\u001b[1;32m   3942\u001b[0m     @rewrite_axis_style_signature('mapper', [('copy', True),\n",
      "\u001b[0;32m~/anaconda3/lib/python3.6/site-packages/pandas/core/generic.py\u001b[0m in \u001b[0;36mdrop\u001b[0;34m(self, labels, axis, index, columns, level, inplace, errors)\u001b[0m\n\u001b[1;32m   3778\u001b[0m         \u001b[0;32mfor\u001b[0m \u001b[0maxis\u001b[0m\u001b[0;34m,\u001b[0m \u001b[0mlabels\u001b[0m \u001b[0;32min\u001b[0m \u001b[0maxes\u001b[0m\u001b[0;34m.\u001b[0m\u001b[0mitems\u001b[0m\u001b[0;34m(\u001b[0m\u001b[0;34m)\u001b[0m\u001b[0;34m:\u001b[0m\u001b[0;34m\u001b[0m\u001b[0;34m\u001b[0m\u001b[0m\n\u001b[1;32m   3779\u001b[0m             \u001b[0;32mif\u001b[0m \u001b[0mlabels\u001b[0m \u001b[0;32mis\u001b[0m \u001b[0;32mnot\u001b[0m \u001b[0;32mNone\u001b[0m\u001b[0;34m:\u001b[0m\u001b[0;34m\u001b[0m\u001b[0;34m\u001b[0m\u001b[0m\n\u001b[0;32m-> 3780\u001b[0;31m                 \u001b[0mobj\u001b[0m \u001b[0;34m=\u001b[0m \u001b[0mobj\u001b[0m\u001b[0;34m.\u001b[0m\u001b[0m_drop_axis\u001b[0m\u001b[0;34m(\u001b[0m\u001b[0mlabels\u001b[0m\u001b[0;34m,\u001b[0m \u001b[0maxis\u001b[0m\u001b[0;34m,\u001b[0m \u001b[0mlevel\u001b[0m\u001b[0;34m=\u001b[0m\u001b[0mlevel\u001b[0m\u001b[0;34m,\u001b[0m \u001b[0merrors\u001b[0m\u001b[0;34m=\u001b[0m\u001b[0merrors\u001b[0m\u001b[0;34m)\u001b[0m\u001b[0;34m\u001b[0m\u001b[0;34m\u001b[0m\u001b[0m\n\u001b[0m\u001b[1;32m   3781\u001b[0m \u001b[0;34m\u001b[0m\u001b[0m\n\u001b[1;32m   3782\u001b[0m         \u001b[0;32mif\u001b[0m \u001b[0minplace\u001b[0m\u001b[0;34m:\u001b[0m\u001b[0;34m\u001b[0m\u001b[0;34m\u001b[0m\u001b[0m\n",
      "\u001b[0;32m~/anaconda3/lib/python3.6/site-packages/pandas/core/generic.py\u001b[0m in \u001b[0;36m_drop_axis\u001b[0;34m(self, labels, axis, level, errors)\u001b[0m\n\u001b[1;32m   3829\u001b[0m                 \u001b[0mlabels_missing\u001b[0m \u001b[0;34m=\u001b[0m \u001b[0;34m(\u001b[0m\u001b[0maxis\u001b[0m\u001b[0;34m.\u001b[0m\u001b[0mget_indexer_for\u001b[0m\u001b[0;34m(\u001b[0m\u001b[0mlabels\u001b[0m\u001b[0;34m)\u001b[0m \u001b[0;34m==\u001b[0m \u001b[0;34m-\u001b[0m\u001b[0;36m1\u001b[0m\u001b[0;34m)\u001b[0m\u001b[0;34m.\u001b[0m\u001b[0many\u001b[0m\u001b[0;34m(\u001b[0m\u001b[0;34m)\u001b[0m\u001b[0;34m\u001b[0m\u001b[0;34m\u001b[0m\u001b[0m\n\u001b[1;32m   3830\u001b[0m                 \u001b[0;32mif\u001b[0m \u001b[0merrors\u001b[0m \u001b[0;34m==\u001b[0m \u001b[0;34m'raise'\u001b[0m \u001b[0;32mand\u001b[0m \u001b[0mlabels_missing\u001b[0m\u001b[0;34m:\u001b[0m\u001b[0;34m\u001b[0m\u001b[0;34m\u001b[0m\u001b[0m\n\u001b[0;32m-> 3831\u001b[0;31m                     \u001b[0;32mraise\u001b[0m \u001b[0mKeyError\u001b[0m\u001b[0;34m(\u001b[0m\u001b[0;34m'{} not found in axis'\u001b[0m\u001b[0;34m.\u001b[0m\u001b[0mformat\u001b[0m\u001b[0;34m(\u001b[0m\u001b[0mlabels\u001b[0m\u001b[0;34m)\u001b[0m\u001b[0;34m)\u001b[0m\u001b[0;34m\u001b[0m\u001b[0;34m\u001b[0m\u001b[0m\n\u001b[0m\u001b[1;32m   3832\u001b[0m \u001b[0;34m\u001b[0m\u001b[0m\n\u001b[1;32m   3833\u001b[0m             \u001b[0mslicer\u001b[0m \u001b[0;34m=\u001b[0m \u001b[0;34m[\u001b[0m\u001b[0mslice\u001b[0m\u001b[0;34m(\u001b[0m\u001b[0;32mNone\u001b[0m\u001b[0;34m)\u001b[0m\u001b[0;34m]\u001b[0m \u001b[0;34m*\u001b[0m \u001b[0mself\u001b[0m\u001b[0;34m.\u001b[0m\u001b[0mndim\u001b[0m\u001b[0;34m\u001b[0m\u001b[0;34m\u001b[0m\u001b[0m\n",
      "\u001b[0;31mKeyError\u001b[0m: \"['accounts' 'ba' 'biology' 'chemistry' 'comp' 'economics' 'english'\\n 'field' 'history' 'maths' 'physics' 'politics' 'q1' 'q10' 'q11' 'q12'\\n 'q2' 'q3' 'q4' 'q5' 'q6' 'q7' 'q8' 'q9' 'stats'] not found in axis\""
     ]
    }
   ],
   "source": [
    "f1.drop(f1.isnull())"
   ]
  },
  {
   "cell_type": "code",
   "execution_count": 288,
   "metadata": {},
   "outputs": [
    {
     "data": {
      "text/plain": [
       "(3140, 25)"
      ]
     },
     "execution_count": 288,
     "metadata": {},
     "output_type": "execute_result"
    }
   ],
   "source": [
    "f1.shape"
   ]
  },
  {
   "cell_type": "code",
   "execution_count": 301,
   "metadata": {},
   "outputs": [
    {
     "data": {
      "text/plain": [
       "(3090, 25)"
      ]
     },
     "execution_count": 301,
     "metadata": {},
     "output_type": "execute_result"
    }
   ],
   "source": [
    "f1.shape"
   ]
  },
  {
   "cell_type": "code",
   "execution_count": 339,
   "metadata": {},
   "outputs": [],
   "source": [
    "f2=f1.dropna(axis=0)"
   ]
  },
  {
   "cell_type": "code",
   "execution_count": 346,
   "metadata": {},
   "outputs": [],
   "source": [
    "f1=f2"
   ]
  },
  {
   "cell_type": "code",
   "execution_count": 357,
   "metadata": {},
   "outputs": [],
   "source": [
    "f1.to_csv('/Users/shashankshivam/Desktop/finalmarks.csv')"
   ]
  },
  {
   "cell_type": "code",
   "execution_count": null,
   "metadata": {},
   "outputs": [],
   "source": []
  }
 ],
 "metadata": {
  "kernelspec": {
   "display_name": "Python 3",
   "language": "python",
   "name": "python3"
  },
  "language_info": {
   "codemirror_mode": {
    "name": "ipython",
    "version": 3
   },
   "file_extension": ".py",
   "mimetype": "text/x-python",
   "name": "python",
   "nbconvert_exporter": "python",
   "pygments_lexer": "ipython3",
   "version": "3.6.8"
  }
 },
 "nbformat": 4,
 "nbformat_minor": 2
}
