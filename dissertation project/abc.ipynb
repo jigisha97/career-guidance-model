{
 "cells": [
  {
   "cell_type": "code",
   "execution_count": 2,
   "metadata": {},
   "outputs": [],
   "source": [
    "import pandas as pd\n",
    "import numpy as np\n",
    "import random\n",
    "import pickle"
   ]
  },
  {
   "cell_type": "code",
   "execution_count": 3,
   "metadata": {},
   "outputs": [
    {
     "data": {
      "text/html": [
       "<div>\n",
       "<style scoped>\n",
       "    .dataframe tbody tr th:only-of-type {\n",
       "        vertical-align: middle;\n",
       "    }\n",
       "\n",
       "    .dataframe tbody tr th {\n",
       "        vertical-align: top;\n",
       "    }\n",
       "\n",
       "    .dataframe thead th {\n",
       "        text-align: right;\n",
       "    }\n",
       "</style>\n",
       "<table border=\"1\" class=\"dataframe\">\n",
       "  <thead>\n",
       "    <tr style=\"text-align: right;\">\n",
       "      <th></th>\n",
       "      <th>Unnamed: 0</th>\n",
       "      <th>maths</th>\n",
       "      <th>comp</th>\n",
       "      <th>ba</th>\n",
       "      <th>states</th>\n",
       "      <th>chemistry</th>\n",
       "      <th>physics</th>\n",
       "      <th>history</th>\n",
       "      <th>politics</th>\n",
       "      <th>economics</th>\n",
       "      <th>english</th>\n",
       "      <th>biology</th>\n",
       "      <th>field</th>\n",
       "    </tr>\n",
       "  </thead>\n",
       "  <tbody>\n",
       "    <tr>\n",
       "      <th>0</th>\n",
       "      <td>0</td>\n",
       "      <td>89</td>\n",
       "      <td>97</td>\n",
       "      <td>50</td>\n",
       "      <td>55</td>\n",
       "      <td>41</td>\n",
       "      <td>60</td>\n",
       "      <td>0</td>\n",
       "      <td>0</td>\n",
       "      <td>49</td>\n",
       "      <td>72</td>\n",
       "      <td>0</td>\n",
       "      <td>IT</td>\n",
       "    </tr>\n",
       "    <tr>\n",
       "      <th>1</th>\n",
       "      <td>1</td>\n",
       "      <td>94</td>\n",
       "      <td>94</td>\n",
       "      <td>53</td>\n",
       "      <td>54</td>\n",
       "      <td>42</td>\n",
       "      <td>41</td>\n",
       "      <td>0</td>\n",
       "      <td>0</td>\n",
       "      <td>45</td>\n",
       "      <td>68</td>\n",
       "      <td>0</td>\n",
       "      <td>IT</td>\n",
       "    </tr>\n",
       "    <tr>\n",
       "      <th>2</th>\n",
       "      <td>2</td>\n",
       "      <td>77</td>\n",
       "      <td>83</td>\n",
       "      <td>41</td>\n",
       "      <td>61</td>\n",
       "      <td>50</td>\n",
       "      <td>61</td>\n",
       "      <td>0</td>\n",
       "      <td>0</td>\n",
       "      <td>48</td>\n",
       "      <td>71</td>\n",
       "      <td>0</td>\n",
       "      <td>IT</td>\n",
       "    </tr>\n",
       "    <tr>\n",
       "      <th>3</th>\n",
       "      <td>3</td>\n",
       "      <td>87</td>\n",
       "      <td>99</td>\n",
       "      <td>49</td>\n",
       "      <td>47</td>\n",
       "      <td>51</td>\n",
       "      <td>58</td>\n",
       "      <td>0</td>\n",
       "      <td>0</td>\n",
       "      <td>59</td>\n",
       "      <td>55</td>\n",
       "      <td>0</td>\n",
       "      <td>IT</td>\n",
       "    </tr>\n",
       "    <tr>\n",
       "      <th>4</th>\n",
       "      <td>4</td>\n",
       "      <td>88</td>\n",
       "      <td>77</td>\n",
       "      <td>41</td>\n",
       "      <td>55</td>\n",
       "      <td>51</td>\n",
       "      <td>45</td>\n",
       "      <td>0</td>\n",
       "      <td>0</td>\n",
       "      <td>43</td>\n",
       "      <td>50</td>\n",
       "      <td>0</td>\n",
       "      <td>IT</td>\n",
       "    </tr>\n",
       "  </tbody>\n",
       "</table>\n",
       "</div>"
      ],
      "text/plain": [
       "   Unnamed: 0  maths  comp  ba  states  chemistry  physics  history  politics  \\\n",
       "0           0     89    97  50      55         41       60        0         0   \n",
       "1           1     94    94  53      54         42       41        0         0   \n",
       "2           2     77    83  41      61         50       61        0         0   \n",
       "3           3     87    99  49      47         51       58        0         0   \n",
       "4           4     88    77  41      55         51       45        0         0   \n",
       "\n",
       "   economics  english  biology field  \n",
       "0         49       72        0    IT  \n",
       "1         45       68        0    IT  \n",
       "2         48       71        0    IT  \n",
       "3         59       55        0    IT  \n",
       "4         43       50        0    IT  "
      ]
     },
     "execution_count": 3,
     "metadata": {},
     "output_type": "execute_result"
    }
   ],
   "source": [
    "df2 = pd.read_csv('/Users/shashankshivam/Desktop/dissertationfinalmarks1.csv')\n",
    "df2.head()"
   ]
  },
  {
   "cell_type": "code",
   "execution_count": 4,
   "metadata": {},
   "outputs": [],
   "source": [
    "df2['field'].replace(\"IT\",1,inplace=True)\n",
    "df2['field'].replace(\"managment\",2,inplace=True)\n",
    "df2['field'].replace(\"Medical\",3,inplace=True)\n",
    "df2['field'].replace(\"political_science\",4,inplace=True)\n",
    "df2['field'].replace(\"others\",5,inplace=True)"
   ]
  },
  {
   "cell_type": "code",
   "execution_count": 5,
   "metadata": {},
   "outputs": [],
   "source": [
    "X=df2.drop(['field'],1)\n",
    "X=X.values"
   ]
  },
  {
   "cell_type": "code",
   "execution_count": 6,
   "metadata": {},
   "outputs": [],
   "source": [
    "y=df2['field']\n",
    "y=y.values"
   ]
  },
  {
   "cell_type": "code",
   "execution_count": 7,
   "metadata": {},
   "outputs": [
    {
     "name": "stdout",
     "output_type": "stream",
     "text": [
      "              precision    recall  f1-score   support\n",
      "\n",
      "           1       0.00      0.00      0.00        88\n",
      "           2       0.00      0.00      0.00       107\n",
      "           3       0.25      1.00      0.41       126\n",
      "           4       0.00      0.00      0.00        76\n",
      "           5       0.00      0.00      0.00        98\n",
      "\n",
      "    accuracy                           0.25       495\n",
      "   macro avg       0.05      0.20      0.08       495\n",
      "weighted avg       0.06      0.25      0.10       495\n",
      "\n",
      "[[  0   0  88   0   0]\n",
      " [  0   0 107   0   0]\n",
      " [  0   0 126   0   0]\n",
      " [  0   0  76   0   0]\n",
      " [  0   0  98   0   0]]\n",
      "0.2545454545454545\n"
     ]
    },
    {
     "name": "stderr",
     "output_type": "stream",
     "text": [
      "/Users/shashankshivam/anaconda3/lib/python3.6/site-packages/sklearn/svm/base.py:193: FutureWarning: The default value of gamma will change from 'auto' to 'scale' in version 0.22 to account better for unscaled features. Set gamma explicitly to 'auto' or 'scale' to avoid this warning.\n",
      "  \"avoid this warning.\", FutureWarning)\n",
      "/Users/shashankshivam/anaconda3/lib/python3.6/site-packages/sklearn/metrics/classification.py:1437: UndefinedMetricWarning: Precision and F-score are ill-defined and being set to 0.0 in labels with no predicted samples.\n",
      "  'precision', 'predicted', average, warn_for)\n"
     ]
    }
   ],
   "source": [
    "import sklearn\n",
    "from sklearn.model_selection import train_test_split\n",
    "X_train, X_test, y_train, y_test = train_test_split(X, y, test_size=0.33, random_state=42)\n",
    "from sklearn import svm\n",
    "from sklearn.svm import SVC\n",
    "from sklearn import metrics\n",
    "from sklearn.metrics import accuracy_score\n",
    "\n",
    "model = svm.SVC(kernel = \"rbf\")\n",
    "model.fit(X_train, y_train)\n",
    "pred_y = model.predict(X_test)\n",
    "print(metrics.classification_report(y_test, pred_y))\n",
    "print(metrics.confusion_matrix(y_test,pred_y))\n",
    "print(accuracy_score(y_test, pred_y))\n",
    "svm_score=accuracy_score(y_test, pred_y)"
   ]
  },
  {
   "cell_type": "code",
   "execution_count": 8,
   "metadata": {},
   "outputs": [
    {
     "name": "stdout",
     "output_type": "stream",
     "text": [
      "              precision    recall  f1-score   support\n",
      "\n",
      "           1       0.87      0.84      0.86        88\n",
      "           2       0.87      0.90      0.88       107\n",
      "           3       1.00      1.00      1.00       126\n",
      "           4       1.00      1.00      1.00        76\n",
      "           5       1.00      1.00      1.00        98\n",
      "\n",
      "    accuracy                           0.95       495\n",
      "   macro avg       0.95      0.95      0.95       495\n",
      "weighted avg       0.95      0.95      0.95       495\n",
      "\n",
      "[[ 74  14   0   0   0]\n",
      " [ 11  96   0   0   0]\n",
      " [  0   0 126   0   0]\n",
      " [  0   0   0  76   0]\n",
      " [  0   0   0   0  98]]\n",
      "0.9494949494949495\n"
     ]
    },
    {
     "name": "stderr",
     "output_type": "stream",
     "text": [
      "/Users/shashankshivam/anaconda3/lib/python3.6/site-packages/sklearn/linear_model/logistic.py:432: FutureWarning: Default solver will be changed to 'lbfgs' in 0.22. Specify a solver to silence this warning.\n",
      "  FutureWarning)\n",
      "/Users/shashankshivam/anaconda3/lib/python3.6/site-packages/sklearn/linear_model/logistic.py:469: FutureWarning: Default multi_class will be changed to 'auto' in 0.22. Specify the multi_class option to silence this warning.\n",
      "  \"this warning.\", FutureWarning)\n"
     ]
    }
   ],
   "source": [
    "from sklearn.linear_model import LogisticRegression\n",
    "from sklearn.metrics import accuracy_score \n",
    "model = LogisticRegression()\n",
    "model.fit(X_test,y_test)\n",
    "predicted_classes = model.predict(X_test)\n",
    "accuracy = accuracy_score(y_test,predicted_classes)\n",
    "#accuracy*100\n",
    "\n",
    "print(metrics.classification_report(y_test, predicted_classes))\n",
    "print(metrics.confusion_matrix(y_test,predicted_classes))\n",
    "print(accuracy_score(y_test, predicted_classes))"
   ]
  },
  {
   "cell_type": "code",
   "execution_count": 9,
   "metadata": {},
   "outputs": [
    {
     "name": "stdout",
     "output_type": "stream",
     "text": [
      "              precision    recall  f1-score   support\n",
      "\n",
      "           1       0.73      0.94      0.83        88\n",
      "           2       0.94      0.72      0.81       107\n",
      "           3       1.00      1.00      1.00       126\n",
      "           4       1.00      1.00      1.00        76\n",
      "           5       1.00      1.00      1.00        98\n",
      "\n",
      "    accuracy                           0.93       495\n",
      "   macro avg       0.93      0.93      0.93       495\n",
      "weighted avg       0.94      0.93      0.93       495\n",
      "\n",
      "[[ 83   5   0   0   0]\n",
      " [ 30  77   0   0   0]\n",
      " [  0   0 126   0   0]\n",
      " [  0   0   0  76   0]\n",
      " [  0   0   0   0  98]]\n",
      "0.9292929292929293\n"
     ]
    },
    {
     "data": {
      "text/plain": [
       "92.92929292929293"
      ]
     },
     "execution_count": 9,
     "metadata": {},
     "output_type": "execute_result"
    }
   ],
   "source": [
    "from sklearn.naive_bayes import GaussianNB\n",
    "model = GaussianNB()\n",
    "model.fit(X_train,y_train)\n",
    "prediction = model.predict(X_test)\n",
    "\n",
    "print(metrics.classification_report(y_test, prediction))\n",
    "print(metrics.confusion_matrix(y_test,prediction))\n",
    "print(accuracy_score(y_test, prediction))\n",
    "accuracy_score(y_test,prediction)*100"
   ]
  },
  {
   "cell_type": "code",
   "execution_count": 10,
   "metadata": {},
   "outputs": [],
   "source": [
    "from sklearn.tree import DecisionTreeClassifier \n",
    "from sklearn import metrics"
   ]
  },
  {
   "cell_type": "code",
   "execution_count": 11,
   "metadata": {},
   "outputs": [],
   "source": [
    "clf = DecisionTreeClassifier()"
   ]
  },
  {
   "cell_type": "code",
   "execution_count": 12,
   "metadata": {},
   "outputs": [],
   "source": [
    "clf = clf.fit(X_train,y_train)\n",
    "\n",
    "#Predict the response for test dataset\n",
    "y_pred = clf.predict(X_test)"
   ]
  },
  {
   "cell_type": "code",
   "execution_count": 13,
   "metadata": {},
   "outputs": [
    {
     "name": "stdout",
     "output_type": "stream",
     "text": [
      "Accuracy: 0.9252525252525252\n"
     ]
    }
   ],
   "source": [
    "print(\"Accuracy:\",metrics.accuracy_score(y_test, y_pred))"
   ]
  },
  {
   "cell_type": "code",
   "execution_count": 14,
   "metadata": {},
   "outputs": [
    {
     "name": "stdout",
     "output_type": "stream",
     "text": [
      "              precision    recall  f1-score   support\n",
      "\n",
      "           1       0.77      0.83      0.80        88\n",
      "           2       0.85      0.79      0.82       107\n",
      "           3       1.00      1.00      1.00       126\n",
      "           4       1.00      1.00      1.00        76\n",
      "           5       1.00      1.00      1.00        98\n",
      "\n",
      "    accuracy                           0.93       495\n",
      "   macro avg       0.92      0.92      0.92       495\n",
      "weighted avg       0.93      0.93      0.93       495\n",
      "\n",
      "[[ 73  15   0   0   0]\n",
      " [ 22  85   0   0   0]\n",
      " [  0   0 126   0   0]\n",
      " [  0   0   0  76   0]\n",
      " [  0   0   0   0  98]]\n",
      "0.9252525252525252\n"
     ]
    },
    {
     "data": {
      "text/plain": [
       "92.52525252525253"
      ]
     },
     "execution_count": 14,
     "metadata": {},
     "output_type": "execute_result"
    }
   ],
   "source": [
    "print(metrics.classification_report(y_test, y_pred))\n",
    "print(metrics.confusion_matrix(y_test,y_pred))\n",
    "print(accuracy_score(y_test, y_pred))\n",
    "accuracy_score(y_test,y_pred)*100"
   ]
  },
  {
   "cell_type": "code",
   "execution_count": 15,
   "metadata": {},
   "outputs": [],
   "source": [
    "pickle.dump(model, open('model.pkl','wb'))"
   ]
  },
  {
   "cell_type": "code",
   "execution_count": 16,
   "metadata": {},
   "outputs": [],
   "source": [
    "model = pickle.load(open('model.pkl','rb'))"
   ]
  },
  {
   "cell_type": "code",
   "execution_count": null,
   "metadata": {},
   "outputs": [],
   "source": []
  }
 ],
 "metadata": {
  "kernelspec": {
   "display_name": "Python 3",
   "language": "python",
   "name": "python3"
  },
  "language_info": {
   "codemirror_mode": {
    "name": "ipython",
    "version": 3
   },
   "file_extension": ".py",
   "mimetype": "text/x-python",
   "name": "python",
   "nbconvert_exporter": "python",
   "pygments_lexer": "ipython3",
   "version": "3.6.8"
  }
 },
 "nbformat": 4,
 "nbformat_minor": 2
}
